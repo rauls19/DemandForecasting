{
 "cells": [
  {
   "cell_type": "code",
   "execution_count": 4,
   "metadata": {},
   "outputs": [],
   "source": [
    "#get_ipython().magic('reset -sf')"
   ]
  },
  {
   "cell_type": "markdown",
   "metadata": {},
   "source": [
    "# Models"
   ]
  },
  {
   "cell_type": "code",
   "execution_count": 1,
   "metadata": {},
   "outputs": [],
   "source": [
    "import pandas as pd\n",
    "import numpy as np\n",
    "from sklearn import metrics\n",
    "from sklearn import neighbors\n",
    "from sklearn import feature_selection\n",
    "from sklearn.feature_selection import RFE\n",
    "from sklearn.linear_model import LinearRegression, LassoCV, Lasso\n",
    "from sklearn.gaussian_process import GaussianProcessRegressor\n",
    "from sklearn.gaussian_process.kernels import RBF, ConstantKernel as C\n",
    "from sklearn.model_selection import train_test_split, KFold, GridSearchCV\n",
    "from sklearn.neural_network import MLPRegressor\n",
    "from sklearn.preprocessing import StandardScaler, MinMaxScaler\n",
    "import xgboost as xgb\n",
    "import time\n",
    "import dalex as dx\n",
    "from sklearn.ensemble import RandomForestRegressor\n",
    "import torch\n",
    "import torch.nn as nn\n",
    "from torch.autograd import Variable \n",
    "from captum.attr import (\n",
    "    IntegratedGradients,\n",
    "    GradientShap,\n",
    "    DeepLift,\n",
    "    DeepLiftShap,\n",
    "    LayerConductance,\n",
    "    NeuronConductance,\n",
    "    NoiseTunnel,\n",
    ")\n",
    "import lime.lime_tabular\n",
    "\n",
    "import matplotlib.pyplot as plt"
   ]
  },
  {
   "cell_type": "markdown",
   "metadata": {},
   "source": [
    "First, I import pre-cleaned data, after I divide the dataset in training and testing, 60% and 40% respectively. Everything has to be scaled and I prepare the folds for the 5 cross validation. The steps I am going to follow in wach model are the following:\n",
    "- Recursive feature elimination, I am going to remove the non important features\n",
    "- Grid search, in order to try all the hyperparameters and choose the best ones\n",
    "- Create model with the hyperparameters selected previously and fit it\n",
    "- Make the predictions\n",
    "- Shapley values to understand the model and the predictions"
   ]
  },
  {
   "cell_type": "code",
   "execution_count": 2,
   "metadata": {},
   "outputs": [
    {
     "output_type": "stream",
     "name": "stderr",
     "text": [
      "C:\\Users\\cul_g\\AppData\\Roaming\\Python\\Python39\\site-packages\\IPython\\core\\interactiveshell.py:3155: DtypeWarning: Columns (7) have mixed types.Specify dtype option on import or set low_memory=False.\n  has_raised = await self.run_ast_nodes(code_ast.body, cell_name,\n"
     ]
    }
   ],
   "source": [
    "data_info_original = pd.read_csv('info_data.csv')\n",
    "data_info_original = data_info_original.sort_values(['ANO_FACTURA', 'MES_FACTURA', 'FECHA_FACTURA'])\n",
    "data_info = pd.read_csv('info_datav2.csv')\n",
    "data_info = data_info.sort_values(['ANO_FACTURA', 'MES_FACTURA', 'FECHA_FACTURA'])\n",
    "data_gaussian = data_info[data_info.ANO_FACTURA == 2020]"
   ]
  },
  {
   "cell_type": "code",
   "execution_count": 3,
   "metadata": {},
   "outputs": [],
   "source": [
    "def getISOCountry(iso_country):\n",
    "    indexes = data_info_original[data_info_original['NUMERO_DEUDOR_PAIS_ID'] == iso_country].index\n",
    "    iso_code = data_info.iloc[[indexes[0]]]['NUMERO_DEUDOR_PAIS_ID']\n",
    "    return iso_code.values[0]\n",
    "\n",
    "def getValuesFilter(ds, value, columns, target):\n",
    "    if value == '*': #no filter \n",
    "        return ds\n",
    "    indexes = getIndexFilter(ds, value, target)\n",
    "    datat = getValues(ds, indexes, columns)\n",
    "    return datat\n",
    "\n",
    "def getIndexFilter(dt, value, target):\n",
    "    indexes = dt[dt[target] == value].index\n",
    "    return indexes\n",
    "\n",
    "def getValues(dt, indexes, columns):\n",
    "    datat = []\n",
    "    for k, v in zip(dt.index, dt.values):\n",
    "        if k in indexes:\n",
    "            datat.append(v)\n",
    "    df = pd.DataFrame(datat, columns = columns)\n",
    "    return df\n"
   ]
  },
  {
   "cell_type": "code",
   "execution_count": 4,
   "metadata": {},
   "outputs": [],
   "source": [
    "# Filter data by country\n",
    "iso_spain = getISOCountry('ES') # Get iso from a country you want  to\n",
    "data_info_filtered = getValuesFilter(data_info, '*', data_info.columns, 'NUMERO_DEUDOR_PAIS_ID') # iso = * -> no filter by numero deudor pais id\n",
    "data_info_filtered = data_info_filtered.sort_values(['ANO_FACTURA', 'MES_FACTURA', 'FECHA_FACTURA'])\n",
    "data_info_original_filtered = getValuesFilter(data_info_original, '*', data_info_original.columns, 'NUMERO_DEUDOR_PAIS_ID') # iso = * -> no filter by numero deudor pais id\n",
    "data_info_original_filtered = data_info_original_filtered.sort_values(['ANO_FACTURA', 'MES_FACTURA', 'FECHA_FACTURA'])"
   ]
  },
  {
   "cell_type": "code",
   "execution_count": 5,
   "metadata": {},
   "outputs": [],
   "source": [
    "traindataset_original, testdataset_original = train_test_split(data_info_original_filtered, test_size=0.4, shuffle= False) # To use all the data, change to -> data_info\n",
    "traindataset, testdataset = train_test_split(data_info_filtered, test_size=0.4, shuffle= False) # To use all the data, change to -> data_info\n",
    "x_train = traindataset.loc[:, traindataset.columns != 'IMP_VENTA_NETO_EUR']\n",
    "y_train = traindataset.loc[:, traindataset.columns == 'IMP_VENTA_NETO_EUR']\n",
    "x_train = x_train.drop(columns=['EDAD_RANGO_COMPRA'])\n",
    "x_test = testdataset.loc[:, testdataset.columns != 'IMP_VENTA_NETO_EUR']\n",
    "y_test = testdataset.loc[:, testdataset.columns == 'IMP_VENTA_NETO_EUR']\n",
    "x_test = x_test.drop(columns = 'EDAD_RANGO_COMPRA')"
   ]
  },
  {
   "cell_type": "code",
   "execution_count": 6,
   "metadata": {},
   "outputs": [],
   "source": [
    "#scaler = StandardScaler()\n",
    "#x_train = pd.DataFrame(scaler.fit_transform(x_train), columns = x_train.columns)\n",
    "#x_test = pd.DataFrame(scaler.fit_transform(x_test), columns = x_test.columns)\n",
    "normalizer = MinMaxScaler(feature_range = (-1, 1))\n",
    "x_train = pd.DataFrame(normalizer.fit_transform(x_train), columns= x_train.columns)\n",
    "x_test = pd.DataFrame(normalizer.fit_transform(x_test), columns= x_test.columns)\n",
    "mseresults = pd.DataFrame()\n",
    "timeexecution = pd.DataFrame()"
   ]
  },
  {
   "cell_type": "code",
   "execution_count": 7,
   "metadata": {},
   "outputs": [],
   "source": [
    "folds = KFold(n_splits = 5, shuffle = False) # if shuffle false, random state doesn't matter"
   ]
  },
  {
   "cell_type": "markdown",
   "metadata": {},
   "source": [
    "## Linear Model"
   ]
  },
  {
   "cell_type": "markdown",
   "metadata": {},
   "source": [
    "I have to choose which are the most important features in the model, I will use R2 to get it."
   ]
  },
  {
   "cell_type": "code",
   "execution_count": null,
   "metadata": {},
   "outputs": [],
   "source": [
    "hyper_params = [{'n_features_to_select': list(range(1, 26))}]\n",
    "lm = LinearRegression()\n",
    "rfe = RFE(lm)\n",
    "model_cv = GridSearchCV(estimator = rfe, param_grid = hyper_params, scoring= 'r2', cv = folds, verbose = 1, return_train_score=True)      \n",
    "model_cv.fit(x_train, y_train)\n",
    "cv_results = pd.DataFrame(model_cv.cv_results_)"
   ]
  },
  {
   "cell_type": "code",
   "execution_count": null,
   "metadata": {},
   "outputs": [],
   "source": [
    "display(cv_results)\n",
    "print(model_cv.best_params_)"
   ]
  },
  {
   "cell_type": "code",
   "execution_count": null,
   "metadata": {},
   "outputs": [],
   "source": [
    "#plt.figure(figsize=(16,6))\n",
    "plt.plot(cv_results[\"param_n_features_to_select\"], cv_results[\"mean_test_score\"])\n",
    "plt.plot(cv_results[\"param_n_features_to_select\"], cv_results[\"mean_train_score\"])\n",
    "plt.xlabel('number of features')\n",
    "plt.ylabel('r-squared')\n",
    "plt.title(\"Optimal Number of Features\")\n",
    "plt.legend(['test score', 'train score'], loc='upper left')\n",
    "plt.savefig('../Output/testscoretrain.png')\n",
    "plt.show()\n",
    "\n",
    "display(cv_results[['param_n_features_to_select', 'mean_train_score', 'mean_test_score']])"
   ]
  },
  {
   "cell_type": "code",
   "execution_count": 9,
   "metadata": {},
   "outputs": [],
   "source": [
    "n_features_optimal = 25 # Put the best parametrization Check if the previous RFE has the parameters -> Yes: Don't use this, take them directly\n",
    "lm = LinearRegression()\n",
    "rfe = RFE(lm, n_features_to_select= n_features_optimal)             \n",
    "rfe = rfe.fit(x_train, y_train)"
   ]
  },
  {
   "cell_type": "markdown",
   "metadata": {},
   "source": [
    "I select only the parameters I am interested in"
   ]
  },
  {
   "cell_type": "code",
   "execution_count": 10,
   "metadata": {},
   "outputs": [],
   "source": [
    "chosen = pd.DataFrame(rfe.support_, index=x_train.columns, columns=['Rank'])\n",
    "featuresnotselected = []\n",
    "for k, v in zip(chosen.index, chosen.values):\n",
    "    if v == False:\n",
    "        featuresnotselected.append(k)\n",
    "x_train_final = x_train.drop(columns= featuresnotselected)\n",
    "x_test_final = x_test.drop(columns= featuresnotselected)"
   ]
  },
  {
   "cell_type": "markdown",
   "metadata": {},
   "source": [
    "Finally, I create the model with the best parametrization possible"
   ]
  },
  {
   "cell_type": "code",
   "execution_count": 11,
   "metadata": {},
   "outputs": [],
   "source": [
    "lm = LinearRegression()\n",
    "start_time = time.time()\n",
    "lm.fit(x_train_final, y_train)\n",
    "timeexecution['lm'] = (time.time() - start_time)\n",
    "y_pred = lm.predict(x_test_final)\n",
    "results = y_test.copy()\n",
    "results['lm'] = y_pred"
   ]
  },
  {
   "cell_type": "code",
   "execution_count": 12,
   "metadata": {},
   "outputs": [],
   "source": [
    "display(results)"
   ]
  },
  {
   "cell_type": "markdown",
   "metadata": {},
   "source": [
    "#De moment no ho utilitzar�\n",
    "F-test, p-values:"
   ]
  },
  {
   "cell_type": "code",
   "execution_count": null,
   "metadata": {},
   "outputs": [],
   "source": [
    "f_val, p_val = feature_selection.f_regression(x_train_final, y_train) #Repassar\n",
    "display(list(zip(x_train_final.columns, p_val)))\n",
    "print('')\n",
    "display(list(zip(x_train_final.columns, f_val)))"
   ]
  },
  {
   "cell_type": "code",
   "execution_count": 13,
   "metadata": {},
   "outputs": [],
   "source": [
    "print('Mean Absolute Error:', metrics.mean_absolute_error(y_test, y_pred))\n",
    "print('Mean Squared Error:', metrics.mean_squared_error(y_test, y_pred))\n",
    "print('Root Mean Squared Error:', np.sqrt(metrics.mean_squared_error(y_test, y_pred)))\n",
    "print('R2: ', metrics.r2_score(y_test, y_pred))\n",
    "mseresults['lm'] = metrics.mean_squared_error(y_test, y_pred)"
   ]
  },
  {
   "cell_type": "code",
   "execution_count": null,
   "metadata": {},
   "outputs": [],
   "source": [
    "plt.barh(range(0, 25), lm.coef_[0])\n",
    "plt.yticks(range(0, 25), x_train_final.columns, fontsize = 8)\n",
    "plt.title('Coefficients')\n",
    "plt.savefig('../Output/coefflinear.png')\n",
    "plt.show()"
   ]
  },
  {
   "cell_type": "code",
   "execution_count": null,
   "metadata": {},
   "outputs": [],
   "source": [
    "variable_groups = {\n",
    "    'Date': ['ANO_FACTURA', 'MES_FACTURA', 'FECHA_FACTURA', 'TEMPORADA_COMERCIAL_ID'],\n",
    "    'Product': ['PRODUCTO_ID', 'TALLA', 'GRUPO_ARTICULO_PRODUCTO_ID', 'GENERO_PRODUCTO', 'CATEGORIA', 'TIPOLOGIA', 'CONSUMER_COLOR', 'CREMALLERA', 'CORDONES', 'OUTSOLE_SUELA_TIPO', 'OUTSOLE_SUELA_SUBTIPO', 'PLANTILLA_EXTRAIBLE'],\n",
    "    'Age': ['EDAD_SN', 'EDAD_COMPRA'],\n",
    "    'ContanctInfo': ['NUMERO_DEUDOR_PAIS_ID', 'CIUDAD_CONTACTO', 'IDIOMA_CONTACTO', 'GENERO_CONTACTO', 'CONTACTO_SN'],\n",
    "    'SalePerson': ['ESFUERZO_VENTA_ID']\n",
    "}"
   ]
  },
  {
   "cell_type": "code",
   "execution_count": null,
   "metadata": {},
   "outputs": [],
   "source": [
    "linear_explainer = dx.Explainer(lm, x_test_final, y_test)\n",
    "explanation = linear_explainer.model_parts()\n",
    "explanation.plot()\n",
    "groupedexpl = linear_explainer.model_parts(variable_groups=variable_groups)\n",
    "groupedexpl.plot()"
   ]
  },
  {
   "cell_type": "code",
   "execution_count": null,
   "metadata": {},
   "outputs": [],
   "source": [
    "bd_henry = linear_explainer.predict_parts(x_test_final.iloc[[20]], type = 'shap', B= 100)\n",
    "bd_henry.plot()"
   ]
  },
  {
   "cell_type": "code",
   "execution_count": null,
   "metadata": {},
   "outputs": [],
   "source": [
    "bd_henry = linear_explainer.predict_parts(x_test_final.iloc[[100]], type = 'shap', B= 100)\n",
    "bd_henry.plot()"
   ]
  },
  {
   "cell_type": "code",
   "execution_count": null,
   "metadata": {},
   "outputs": [],
   "source": [
    "display(testdataset.iloc[[100]])"
   ]
  },
  {
   "cell_type": "markdown",
   "metadata": {},
   "source": [
    "## XGBoost Model"
   ]
  },
  {
   "cell_type": "markdown",
   "metadata": {},
   "source": [
    "For this model, I am going to work with, the parameters max_depth, learning_rate and subsample from the Xgboost model and n_features_to_select from RFE."
   ]
  },
  {
   "cell_type": "code",
   "execution_count": null,
   "metadata": {},
   "outputs": [],
   "source": [
    "dtrain = xgb.DMatrix(x_train, label=y_train, feature_names=list(x_train.columns))\n",
    "dtest = xgb.DMatrix(x_test, feature_names=list(x_test.columns))"
   ]
  },
  {
   "cell_type": "code",
   "execution_count": 40,
   "metadata": {
    "tags": [
     "outputPrepend"
    ]
   },
   "outputs": [],
   "source": [
    "hyper_params = {'estimator__max_depth':[1, 10, 15], 'estimator__n_estimators': [150, 300, 500], 'estimator__learning_rate':[0.1, 0.05, 0.01] }#, 'n_features_to_select': list(range(1, 26))}\n",
    "num_rounds = 1500\n",
    "xgbm = xgb.XGBRegressor()\n",
    "#rfe_xgboost = RFE(xgbm)\n",
    "model_cv_xgb = GridSearchCV(estimator = xgbm, param_grid = hyper_params, scoring= 'r2', cv = folds, verbose = 1, return_train_score=True)      \n",
    "model_cv_xgb.fit(x_train, y_train)\n",
    "cv_results = pd.DataFrame(model_cv.cv_results_)"
   ]
  },
  {
   "cell_type": "markdown",
   "metadata": {},
   "source": [
    "Once I get the best parametrization, I execute the model with it, by the moment this is an example because I haven't execute the previous, too long."
   ]
  },
  {
   "cell_type": "code",
   "execution_count": 23,
   "metadata": {},
   "outputs": [],
   "source": [
    "xgbm = xgb.XGBRegressor(learning_rate =0.01, n_estimators=500, max_depth=15, min_child_weight=1, subsample=0.8, nthread=4, seed=39931191, verbose_eval = True)\n",
    "start_time = time.time()\n",
    "xgbm.fit(x_train, y_train)\n",
    "timeexecution['xgboost'] = (time.time() - start_time)\n",
    "y_pred = xgbm.predict(x_test)"
   ]
  },
  {
   "cell_type": "code",
   "execution_count": null,
   "metadata": {},
   "outputs": [],
   "source": [
    "#results = y_test.copy()\n",
    "results['xgboost'] = y_pred"
   ]
  },
  {
   "cell_type": "code",
   "execution_count": 24,
   "metadata": {},
   "outputs": [],
   "source": [
    "print('Mean Absolute Error:', metrics.mean_absolute_error(y_test, y_pred))\n",
    "print('Mean Squared Error:', metrics.mean_squared_error(y_test, y_pred))\n",
    "print('Root Mean Squared Error:', np.sqrt(metrics.mean_squared_error(y_test, y_pred)))\n",
    "print('R2:', metrics.r2_score(y_test, y_pred))\n",
    "mseresults['xgboost'] = metrics.mean_squared_error(y_test, y_pred)"
   ]
  },
  {
   "cell_type": "markdown",
   "metadata": {},
   "source": [
    "Firstly, I create an explainer for the model, the inputs are the model, x_train and y_train. After, i can get the variable importance and the reverse cumulative distribution of residuals"
   ]
  },
  {
   "cell_type": "code",
   "execution_count": 28,
   "metadata": {},
   "outputs": [],
   "source": [
    "explainer = dx.Explainer(xgbm, x_train, y_train)\n",
    "explanation = explainer.model_parts()\n",
    "explanation.plot()\n",
    "print(explainer.model_performance().result)\n",
    "res = explainer.model_performance(model_type='regression')\n",
    "#res.plot()"
   ]
  },
  {
   "cell_type": "markdown",
   "metadata": {},
   "source": [
    "Also, I can group the features into a new ones. In this case, I have created different variables that include a similar meaning.\n",
    "- Date: ANO_FACTURA, MES_FACTURA, FECHA_FACTURA, TEMPORADA_COMERCIAL_ID\n",
    "- Product: PRODUCTO_ID, TALLA, GRUPO_ARTICULO_PRODUCTO_ID, GENERO_PRODUCTO, CATEGORIA, TIPOLOGIA, CONSUMER_COLOR, CREMALLERA, CORDONES, OUTSOLE_SUELA_TIPO, OUTSOLE_SUELA_SUBTIPO, PLANTILLA_EXTRAIBLE\n",
    "- Age: EDAD_SN, EDAD_COMPRA\n",
    "- ContanctInfo: NUMERO_DEUDOR_PAIS_ID, CIUDAD_CONTACTO, IDIOMA_CONTACTO, GENERO_CONTACTO, CONTACTO_SN\n",
    "- SalePerson: ESFUERZO_VENTA_ID"
   ]
  },
  {
   "cell_type": "code",
   "execution_count": 29,
   "metadata": {},
   "outputs": [],
   "source": [
    "vars_grouped = explainer.model_parts(variable_groups= variable_groups)\n",
    "print(vars_grouped.result)\n",
    "vars_grouped.plot()"
   ]
  },
  {
   "cell_type": "code",
   "execution_count": null,
   "metadata": {},
   "outputs": [],
   "source": [
    "sh = explainer.predict_parts(x_test.iloc[[20]], type = 'shap')\n",
    "sh.plot()\n",
    "display(testdataset.iloc[[20]])"
   ]
  },
  {
   "cell_type": "code",
   "execution_count": null,
   "metadata": {},
   "outputs": [],
   "source": [
    "sh = explainer.predict_parts(x_test.iloc[[100]], type = 'shap')\n",
    "sh.plot()\n",
    "display(testdataset.iloc[[100]])"
   ]
  },
  {
   "cell_type": "code",
   "execution_count": null,
   "metadata": {},
   "outputs": [],
   "source": [
    "#plt.figure(figsize=(16,6))\n",
    "#chosen = pd.DataFrame(rfe_xgboost.support_, index=x_train.columns, columns=['Rank'])\n",
    "#featuresnotselected = []\n",
    "#for k, v in zip(chosen.index, chosen.values):\n",
    "#    if v == False:\n",
    "#        featuresnotselected.append(k)\n",
    "#x_train_final = x_train.drop(columns= featuresnotselected)\n",
    "#x_test_final = x_test.drop(columns= featuresnotselected)\n",
    "\n",
    "#plt.plot(cv_results[\"param_n_features_to_select\"], cv_results[\"mean_test_score\"])\n",
    "#plt.plot(cv_results[\"param_n_features_to_select\"], cv_results[\"mean_train_score\"])\n",
    "#plt.xlabel('number of features')\n",
    "#plt.ylabel('r-squared')\n",
    "#plt.title(\"Optimal Number of Features\")\n",
    "#plt.legend(['test score', 'train score'], loc='upper left')"
   ]
  },
  {
   "cell_type": "markdown",
   "metadata": {},
   "source": [
    "## k-nearest neighbour regression"
   ]
  },
  {
   "cell_type": "code",
   "execution_count": null,
   "metadata": {},
   "outputs": [],
   "source": [
    "rmse_val = [] #to store rmse values for different k\n",
    "mse_val = []\n",
    "model = neighbors.KNeighborsRegressor(n_neighbors = 7)\n",
    "start_time = time.time()\n",
    "model.fit(x_train, y_train)  #fit the model\n",
    "timeexecution['knn'] = (time.time() - start_time)\n",
    "y_pred=model.predict(x_test) #make prediction on test set\n",
    "mse = metrics.mean_squared_error(y_test, y_pred)\n",
    "error = np.sqrt(metrics.mean_squared_error(y_test, y_pred)) #calculate rmse\n",
    "rmse_val.append(error) #store rmse values\n",
    "mse_val.append(mse)\n",
    "results['knn'] = y_pred\n",
    "mseresults['knn'] = metrics.mean_squared_error(y_test, y_pred)"
   ]
  },
  {
   "cell_type": "code",
   "execution_count": null,
   "metadata": {},
   "outputs": [],
   "source": [
    "#curvermse = pd.DataFrame(rmse_val) #elbow curve \n",
    "#curvermse.plot()\n",
    "#curvemse = pd.DataFrame(mse_val)\n",
    "#curvemse.plot()"
   ]
  },
  {
   "cell_type": "markdown",
   "metadata": {},
   "source": [
    "## NN"
   ]
  },
  {
   "cell_type": "code",
   "execution_count": 25,
   "metadata": {
    "tags": []
   },
   "outputs": [],
   "source": [
    "nn_reg = MLPRegressor(hidden_layer_sizes=(300, 300),  activation='logistic', solver='adam', alpha=0.01, batch_size='auto', learning_rate='constant', learning_rate_init=0.01, max_iter=1000, shuffle=False, tol=0.0001, verbose=True, early_stopping= True, validation_fraction=0.1, beta_1=0.9, beta_2=0.999, epsilon=1e-08)\n",
    "nn_reg.fit(x_train, np.ravel(y_train))\n",
    "y_pred = nn_reg.predict(x_test)\n",
    "nn_reg.score(x_test, y_test)"
   ]
  },
  {
   "cell_type": "code",
   "execution_count": 26,
   "metadata": {},
   "outputs": [],
   "source": [
    "print('Mean Absolute Error:', metrics.mean_absolute_error(y_test, y_pred))\n",
    "print('Mean Squared Error:', metrics.mean_squared_error(y_test, y_pred))\n",
    "print('Root Mean Squared Error:', np.sqrt(metrics.mean_squared_error(y_test, y_pred)))\n",
    "print('R2:', metrics.r2_score(y_test, y_pred))"
   ]
  },
  {
   "cell_type": "code",
   "execution_count": 75,
   "metadata": {},
   "outputs": [],
   "source": [
    "nn_reg_pred = lambda x: nn_reg.predict(x).astype(float)"
   ]
  },
  {
   "cell_type": "code",
   "execution_count": null,
   "metadata": {},
   "outputs": [],
   "source": [
    "results['nn'] = y_pred"
   ]
  },
  {
   "cell_type": "code",
   "execution_count": 130,
   "metadata": {
    "tags": []
   },
   "outputs": [],
   "source": [
    "indexspaindata = getIndexFilter(testdataset, 14, 'NUMERO_DEUDOR_PAIS_ID')\n",
    "indexspaindata_original = getIndexFilter(testdataset_original, 'ES', 'NUMERO_DEUDOR_PAIS_ID')\n",
    "print(indexspaindata)\n",
    "print(indexspaindata_original)"
   ]
  },
  {
   "cell_type": "code",
   "execution_count": null,
   "metadata": {},
   "outputs": [],
   "source": []
  },
  {
   "cell_type": "code",
   "execution_count": 123,
   "metadata": {},
   "outputs": [],
   "source": [
    "display(testdataset.loc[indexspaindata[0]])\n",
    "display(testdataset_original.loc[indexspaindata_original[0]])\n",
    "display(testdataset_original[(testdataset_original['PRODUCTO_ID'] == 10189) & (testdataset_original['NUMERO_DEUDOR_PAIS_ID'] == 'ES') & (test)].index)\n",
    "display(testdataset_original.loc[[644943]])\n",
    "i=0\n",
    "for v in indexspaindata_original:\n",
    "    if v == 644943:\n",
    "        break\n",
    "    else:\n",
    "        i = i+1\n",
    "print(i)\n"
   ]
  },
  {
   "cell_type": "code",
   "execution_count": null,
   "metadata": {},
   "outputs": [],
   "source": []
  },
  {
   "cell_type": "code",
   "execution_count": 101,
   "metadata": {},
   "outputs": [],
   "source": [
    "explainer = lime.lime_tabular.LimeTabularExplainer(x_train.values, feature_names=x_train.columns, verbose=True, mode='regression')\n",
    "exp = explainer.explain_instance(np.ravel(x_test.iloc[[indexspaindata[0]]]), nn_reg_pred, num_features=10)\n",
    "exp.show_in_notebook(show_table=True)\n",
    "exp.as_pyplot_figure()"
   ]
  },
  {
   "cell_type": "code",
   "execution_count": 102,
   "metadata": {},
   "outputs": [],
   "source": [
    "exp.as_list()"
   ]
  },
  {
   "cell_type": "code",
   "execution_count": 68,
   "metadata": {},
   "outputs": [],
   "source": [
    "display(testdataset.iloc[[100]])\n",
    "display(y_pred[100])"
   ]
  },
  {
   "cell_type": "markdown",
   "metadata": {},
   "source": [
    "## LSTM"
   ]
  },
  {
   "cell_type": "code",
   "execution_count": 53,
   "metadata": {},
   "outputs": [],
   "source": [
    "torch.manual_seed(39931191)\n",
    "class LSTM(nn.Module):\n",
    "    def __init__(self, num_classes, input_size, hidden_size, num_layers, seq_length):\n",
    "        super(LSTM, self).__init__()\n",
    "        self.num_classes = num_classes #number of classes\n",
    "        self.num_layers = num_layers #number of layers\n",
    "        self.input_size = input_size #input size\n",
    "        self.hidden_size = hidden_size #hidden state\n",
    "        self.seq_length = seq_length #sequence length\n",
    "\n",
    "        self.lstm = nn.LSTM(input_size=input_size, hidden_size=hidden_size, num_layers=num_layers, batch_first=True) #lstm\n",
    "        self.fc_1 =  nn.Linear(hidden_size, 5) #fully connected 1\n",
    "        self.fc = nn.Linear(5, num_classes) #fully connected last layer\n",
    "        self.relu = nn.ReLU()\n",
    "    \n",
    "    def forward(self,x):\n",
    "        h_0 = Variable(torch.zeros(self.num_layers, x.size(0), self.hidden_size)) #hidden state\n",
    "        c_0 = Variable(torch.zeros(self.num_layers, x.size(0), self.hidden_size)) #internal state\n",
    "        # Propagate input through LSTM\n",
    "        output, (hn, cn) = self.lstm(x, (h_0.detach(), c_0.detach())) #lstm with input, hidden, and internal state\n",
    "        hn = hn.view(-1, self.hidden_size) #reshaping the data for Dense layer next\n",
    "        out = self.relu(hn)\n",
    "        out = self.fc_1(out) #first Densetarget.squeeze(1)\n",
    "        out = self.relu(out) #relu\n",
    "        out = self.fc(out) #Final Output\n",
    "        return out"
   ]
  },
  {
   "cell_type": "code",
   "execution_count": 9,
   "metadata": {},
   "outputs": [
    {
     "output_type": "execute_result",
     "data": {
      "text/plain": [
       "torch.Size([644326, 25])"
      ]
     },
     "metadata": {},
     "execution_count": 9
    }
   ],
   "source": [
    "num_epochs = 2000 #1000 epochs\n",
    "learning_rate = 0.01 #0.001 lr\n",
    "\n",
    "input_size = 25 #number of features\n",
    "hidden_size = 20 #number of features in hidden state\n",
    "num_layers = 1 #number of stacked lstm layers\n",
    "\n",
    "num_classes = 1 #number of output classes\n",
    "\n",
    "x_train_tensors = Variable(torch.Tensor(x_train.values))\n",
    "x_test_tensors = Variable(torch.Tensor(x_test.values))\n",
    "y_train_tensors = Variable(torch.Tensor(y_train.values))\n",
    "y_test_tensors = Variable(torch.Tensor(y_test.values))\n",
    "\n",
    "x_train_tensors_final = torch.reshape(x_train_tensors,   (x_train_tensors.shape[0], 1, x_train_tensors.shape[1]))\n",
    "\n",
    "\n",
    "x_test_tensors_final = torch.reshape(x_test_tensors,  (x_test_tensors.shape[0], 1, x_test_tensors.shape[1]))"
   ]
  },
  {
   "cell_type": "code",
   "execution_count": 10,
   "metadata": {},
   "outputs": [],
   "source": [
    "lstm1 = LSTM(num_classes, input_size, hidden_size, num_layers, x_train_tensors_final.shape[1]) #our lstm class"
   ]
  },
  {
   "cell_type": "code",
   "execution_count": 11,
   "metadata": {},
   "outputs": [],
   "source": [
    "criterion = torch.nn.MSELoss()    # mean-squared error for regression\n",
    "optimizer = torch.optim.Adam(lstm1.parameters(), lr=learning_rate)"
   ]
  },
  {
   "cell_type": "code",
   "execution_count": 12,
   "metadata": {},
   "outputs": [
    {
     "output_type": "stream",
     "name": "stdout",
     "text": [
      "Epoch: 0, loss: 13657.66016\n",
      "Epoch: 100, loss: 2451.79053\n",
      "Epoch: 200, loss: 1461.70215\n",
      "Epoch: 300, loss: 1278.39465\n",
      "Epoch: 400, loss: 1135.55652\n",
      "Epoch: 500, loss: 1010.02942\n",
      "Epoch: 600, loss: 945.15948\n",
      "Epoch: 700, loss: 893.12262\n",
      "Epoch: 800, loss: 837.27686\n",
      "Epoch: 900, loss: 792.25140\n",
      "Epoch: 1000, loss: 745.21283\n",
      "Epoch: 1100, loss: 710.76758\n",
      "Epoch: 1200, loss: 685.38440\n",
      "Epoch: 1300, loss: 672.82355\n",
      "Epoch: 1400, loss: 653.83765\n",
      "Epoch: 1500, loss: 642.23291\n",
      "Epoch: 1600, loss: 632.60480\n",
      "Epoch: 1700, loss: 625.80524\n",
      "Epoch: 1800, loss: 619.40936\n",
      "Epoch: 1900, loss: 614.26550\n"
     ]
    }
   ],
   "source": [
    "for epoch in range(num_epochs):\n",
    "  outputs = lstm1.forward(x_train_tensors_final) #forward pass\n",
    "  #outputs = lstm2.forward(x_train_tensors_final) #forward pass\n",
    "  optimizer.zero_grad() #caluclate the gradient, manually setting to 0\n",
    " \n",
    "  # obtain the loss function\n",
    "  loss = criterion(outputs, y_train_tensors)\n",
    " \n",
    "  loss.backward() #calculates the loss of the loss function\n",
    " \n",
    "  optimizer.step() #improve from loss, i.e backprop\n",
    "  if epoch % 100 == 0:\n",
    "    print(\"Epoch: %d, loss: %1.5f\" % (epoch, loss.item()))"
   ]
  },
  {
   "cell_type": "code",
   "execution_count": 16,
   "metadata": {},
   "outputs": [],
   "source": [
    "train_predict = lstm1(x_test_tensors_final)#forward pass\n",
    "data_predict = train_predict.data.numpy() #numpy conversion\n",
    "#plt.axvline(x=200, c='r', linestyle='--') #size of the training set\n",
    "#print(y_test, data_predict)\n",
    "#plt.scatter(range(0, 5),y_test[:5], label='Actual Data') #actual plot\n",
    "#plt.scatter(range(0, 5), data_predict[:5], label='Predicted Data') #predicted plot\n",
    "#plt.title('Time-Series Prediction')\n",
    "#plt.legend()\n",
    "#plt.show()"
   ]
  },
  {
   "cell_type": "code",
   "execution_count": 17,
   "metadata": {},
   "outputs": [
    {
     "output_type": "stream",
     "name": "stdout",
     "text": [
      "Mean Absolute Error: 32.77718789269531\nMean Squared Error: 1881.2197175686686\nRoot Mean Squared Error: 43.37302984077396\nR2: 0.060144911772238574\n"
     ]
    }
   ],
   "source": [
    "print('Mean Absolute Error:', metrics.mean_absolute_error(y_test, data_predict))\n",
    "print('Mean Squared Error:', metrics.mean_squared_error(y_test, data_predict))\n",
    "print('Root Mean Squared Error:', np.sqrt(metrics.mean_squared_error(y_test, data_predict)))\n",
    "print('R2:', metrics.r2_score(y_test, data_predict))"
   ]
  },
  {
   "cell_type": "code",
   "execution_count": 52,
   "metadata": {},
   "outputs": [
    {
     "output_type": "display_data",
     "data": {
      "text/plain": "array([-1.09832373e+02, -4.28888033e+01,  1.02537317e+00,  1.14352918e+02,\n       -2.21643133e+01,  5.49921159e+00, -1.16096110e+00, -2.19670232e+01,\n        4.40289065e+01, -5.98357225e+01,  5.76655491e+00, -3.43444829e+01,\n        2.09977373e+00, -8.70521950e-02, -4.47929556e+00, -5.69581685e-01,\n        1.13687973e+01,  7.02857070e-01,  4.59351421e-01,  4.22111583e+00,\n       -5.14953529e+00,  6.42022664e-01, -9.39428773e-01, -1.30650051e-01,\n       -9.62223256e+00])"
     },
     "metadata": {}
    }
   ],
   "source": [
    "ig = IntegratedGradients(lstm1)\n",
    "#input = torch.randn(, requires_grad=True)\n",
    "t = torch.Tensor(x_test.iloc[[20]].values)\n",
    "# Computes integrated gradients for class 3.\n",
    "\n",
    "x_test_tensors_final = torch.reshape(x_test_tensors,  (x_test_tensors.shape[0], 1, x_test_tensors.shape[1]))\n",
    "x_test_tensors_final_ig = torch.reshape(x_test_tensors_final[0],  (1, 1, 25))\n",
    "#x_test_tensors_final_ig.shape\n",
    "attribution = ig.attribute(x_test_tensors_final_ig)\n",
    "x_test_tensors_final_ig\n",
    "display(attribution.detach().numpy()[0][0])"
   ]
  },
  {
   "cell_type": "code",
   "execution_count": 61,
   "metadata": {},
   "outputs": [],
   "source": [
    "def visualize_importance(title, features, importance, xtitle):\n",
    "    plt.barh(range(0, features.size), importance, align = 'center')\n",
    "    plt.yticks(range(0, features.size), features, wrap = True)\n",
    "    plt.ylabel(xtitle)\n",
    "    plt.title(title)\n",
    "    plt.show()"
   ]
  },
  {
   "cell_type": "code",
   "execution_count": 62,
   "metadata": {},
   "outputs": [
    {
     "output_type": "display_data",
     "data": {
      "text/plain": "<Figure size 432x288 with 1 Axes>",
      "image/svg+xml": "<?xml version=\"1.0\" encoding=\"utf-8\" standalone=\"no\"?>\r\n<!DOCTYPE svg PUBLIC \"-//W3C//DTD SVG 1.1//EN\"\r\n  \"http://www.w3.org/Graphics/SVG/1.1/DTD/svg11.dtd\">\r\n<!-- Created with matplotlib (https://matplotlib.org/) -->\r\n<svg height=\"263.63625pt\" version=\"1.1\" viewBox=\"0 0 537.78125 263.63625\" width=\"537.78125pt\" xmlns=\"http://www.w3.org/2000/svg\" xmlns:xlink=\"http://www.w3.org/1999/xlink\">\r\n <metadata>\r\n  <rdf:RDF xmlns:cc=\"http://creativecommons.org/ns#\" xmlns:dc=\"http://purl.org/dc/elements/1.1/\" xmlns:rdf=\"http://www.w3.org/1999/02/22-rdf-syntax-ns#\">\r\n   <cc:Work>\r\n    <dc:type rdf:resource=\"http://purl.org/dc/dcmitype/StillImage\"/>\r\n    <dc:date>2021-03-19T11:35:55.375809</dc:date>\r\n    <dc:format>image/svg+xml</dc:format>\r\n    <dc:creator>\r\n     <cc:Agent>\r\n      <dc:title>Matplotlib v3.3.4, https://matplotlib.org/</dc:title>\r\n     </cc:Agent>\r\n    </dc:creator>\r\n   </cc:Work>\r\n  </rdf:RDF>\r\n </metadata>\r\n <defs>\r\n  <style type=\"text/css\">*{stroke-linecap:butt;stroke-linejoin:round;}</style>\r\n </defs>\r\n <g id=\"figure_1\">\r\n  <g id=\"patch_1\">\r\n   <path d=\"M 0 263.63625 \r\nL 537.78125 263.63625 \r\nL 537.78125 0 \r\nL 0 0 \r\nz\r\n\" style=\"fill:none;\"/>\r\n  </g>\r\n  <g id=\"axes_1\">\r\n   <g id=\"patch_2\">\r\n    <path d=\"M 195.78125 239.758125 \r\nL 530.58125 239.758125 \r\nL 530.58125 22.318125 \r\nL 195.78125 22.318125 \r\nz\r\n\" style=\"fill:#ffffff;\"/>\r\n   </g>\r\n   <g id=\"patch_3\">\r\n    <path clip-path=\"url(#p2484276791)\" d=\"M 360.112606 229.874489 \r\nL 210.999432 229.874489 \r\nL 210.999432 223.497949 \r\nL 360.112606 223.497949 \r\nz\r\n\" style=\"fill:#1f77b4;\"/>\r\n   </g>\r\n   <g id=\"patch_4\">\r\n    <path clip-path=\"url(#p2484276791)\" d=\"M 360.112606 221.903814 \r\nL 301.884914 221.903814 \r\nL 301.884914 215.527275 \r\nL 360.112606 215.527275 \r\nz\r\n\" style=\"fill:#1f77b4;\"/>\r\n   </g>\r\n   <g id=\"patch_5\">\r\n    <path clip-path=\"url(#p2484276791)\" d=\"M 360.112606 213.93314 \r\nL 361.504697 213.93314 \r\nL 361.504697 207.5566 \r\nL 360.112606 207.5566 \r\nz\r\n\" style=\"fill:#1f77b4;\"/>\r\n   </g>\r\n   <g id=\"patch_6\">\r\n    <path clip-path=\"url(#p2484276791)\" d=\"M 360.112606 205.962465 \r\nL 515.363068 205.962465 \r\nL 515.363068 199.585926 \r\nL 360.112606 199.585926 \r\nz\r\n\" style=\"fill:#1f77b4;\"/>\r\n   </g>\r\n   <g id=\"patch_7\">\r\n    <path clip-path=\"url(#p2484276791)\" d=\"M 360.112606 197.991791 \r\nL 330.021377 197.991791 \r\nL 330.021377 191.615251 \r\nL 360.112606 191.615251 \r\nz\r\n\" style=\"fill:#1f77b4;\"/>\r\n   </g>\r\n   <g id=\"patch_8\">\r\n    <path clip-path=\"url(#p2484276791)\" d=\"M 360.112606 190.021116 \r\nL 367.578574 190.021116 \r\nL 367.578574 183.644577 \r\nL 360.112606 183.644577 \r\nz\r\n\" style=\"fill:#1f77b4;\"/>\r\n   </g>\r\n   <g id=\"patch_9\">\r\n    <path clip-path=\"url(#p2484276791)\" d=\"M 360.112606 182.050442 \r\nL 358.536436 182.050442 \r\nL 358.536436 175.673902 \r\nL 360.112606 175.673902 \r\nz\r\n\" style=\"fill:#1f77b4;\"/>\r\n   </g>\r\n   <g id=\"patch_10\">\r\n    <path clip-path=\"url(#p2484276791)\" d=\"M 360.112606 174.079767 \r\nL 330.289227 174.079767 \r\nL 330.289227 167.703228 \r\nL 360.112606 167.703228 \r\nz\r\n\" style=\"fill:#1f77b4;\"/>\r\n   </g>\r\n   <g id=\"patch_11\">\r\n    <path clip-path=\"url(#p2484276791)\" d=\"M 360.112606 166.109093 \r\nL 419.888152 166.109093 \r\nL 419.888152 159.732553 \r\nL 360.112606 159.732553 \r\nz\r\n\" style=\"fill:#1f77b4;\"/>\r\n   </g>\r\n   <g id=\"patch_12\">\r\n    <path clip-path=\"url(#p2484276791)\" d=\"M 360.112606 158.138418 \r\nL 278.877045 158.138418 \r\nL 278.877045 151.761879 \r\nL 360.112606 151.761879 \r\nz\r\n\" style=\"fill:#1f77b4;\"/>\r\n   </g>\r\n   <g id=\"patch_13\">\r\n    <path clip-path=\"url(#p2484276791)\" d=\"M 360.112606 150.167744 \r\nL 367.941531 150.167744 \r\nL 367.941531 143.791204 \r\nL 360.112606 143.791204 \r\nz\r\n\" style=\"fill:#1f77b4;\"/>\r\n   </g>\r\n   <g id=\"patch_14\">\r\n    <path clip-path=\"url(#p2484276791)\" d=\"M 360.112606 142.197069 \r\nL 313.485053 142.197069 \r\nL 313.485053 135.82053 \r\nL 360.112606 135.82053 \r\nz\r\n\" style=\"fill:#1f77b4;\"/>\r\n   </g>\r\n   <g id=\"patch_15\">\r\n    <path clip-path=\"url(#p2484276791)\" d=\"M 360.112606 134.226395 \r\nL 362.96335 134.226395 \r\nL 362.96335 127.849855 \r\nL 360.112606 127.849855 \r\nz\r\n\" style=\"fill:#1f77b4;\"/>\r\n   </g>\r\n   <g id=\"patch_16\">\r\n    <path clip-path=\"url(#p2484276791)\" d=\"M 360.112606 126.25572 \r\nL 359.994421 126.25572 \r\nL 359.994421 119.879181 \r\nL 360.112606 119.879181 \r\nz\r\n\" style=\"fill:#1f77b4;\"/>\r\n   </g>\r\n   <g id=\"patch_17\">\r\n    <path clip-path=\"url(#p2484276791)\" d=\"M 360.112606 118.285046 \r\nL 354.031321 118.285046 \r\nL 354.031321 111.908506 \r\nL 360.112606 111.908506 \r\nz\r\n\" style=\"fill:#1f77b4;\"/>\r\n   </g>\r\n   <g id=\"patch_18\">\r\n    <path clip-path=\"url(#p2484276791)\" d=\"M 360.112606 110.314371 \r\nL 359.339318 110.314371 \r\nL 359.339318 103.937832 \r\nL 360.112606 103.937832 \r\nz\r\n\" style=\"fill:#1f77b4;\"/>\r\n   </g>\r\n   <g id=\"patch_19\">\r\n    <path clip-path=\"url(#p2484276791)\" d=\"M 360.112606 102.343697 \r\nL 375.547377 102.343697 \r\nL 375.547377 95.967157 \r\nL 360.112606 95.967157 \r\nz\r\n\" style=\"fill:#1f77b4;\"/>\r\n   </g>\r\n   <g id=\"patch_20\">\r\n    <path clip-path=\"url(#p2484276791)\" d=\"M 360.112606 94.373022 \r\nL 361.066836 94.373022 \r\nL 361.066836 87.996483 \r\nL 360.112606 87.996483 \r\nz\r\n\" style=\"fill:#1f77b4;\"/>\r\n   </g>\r\n   <g id=\"patch_21\">\r\n    <path clip-path=\"url(#p2484276791)\" d=\"M 360.112606 86.402348 \r\nL 360.736242 86.402348 \r\nL 360.736242 80.025808 \r\nL 360.112606 80.025808 \r\nz\r\n\" style=\"fill:#1f77b4;\"/>\r\n   </g>\r\n   <g id=\"patch_22\">\r\n    <path clip-path=\"url(#p2484276791)\" d=\"M 360.112606 78.431673 \r\nL 365.843376 78.431673 \r\nL 365.843376 72.055134 \r\nL 360.112606 72.055134 \r\nz\r\n\" style=\"fill:#1f77b4;\"/>\r\n   </g>\r\n   <g id=\"patch_23\">\r\n    <path clip-path=\"url(#p2484276791)\" d=\"M 360.112606 70.460999 \r\nL 353.121375 70.460999 \r\nL 353.121375 64.084459 \r\nL 360.112606 64.084459 \r\nz\r\n\" style=\"fill:#1f77b4;\"/>\r\n   </g>\r\n   <g id=\"patch_24\">\r\n    <path clip-path=\"url(#p2484276791)\" d=\"M 360.112606 62.490324 \r\nL 360.984244 62.490324 \r\nL 360.984244 56.113785 \r\nL 360.112606 56.113785 \r\nz\r\n\" style=\"fill:#1f77b4;\"/>\r\n   </g>\r\n   <g id=\"patch_25\">\r\n    <path clip-path=\"url(#p2484276791)\" d=\"M 360.112606 54.51965 \r\nL 358.837197 54.51965 \r\nL 358.837197 48.14311 \r\nL 360.112606 48.14311 \r\nz\r\n\" style=\"fill:#1f77b4;\"/>\r\n   </g>\r\n   <g id=\"patch_26\">\r\n    <path clip-path=\"url(#p2484276791)\" d=\"M 360.112606 46.548975 \r\nL 359.93523 46.548975 \r\nL 359.93523 40.172436 \r\nL 360.112606 40.172436 \r\nz\r\n\" style=\"fill:#1f77b4;\"/>\r\n   </g>\r\n   <g id=\"patch_27\">\r\n    <path clip-path=\"url(#p2484276791)\" d=\"M 360.112606 38.578301 \r\nL 347.049048 38.578301 \r\nL 347.049048 32.201761 \r\nL 360.112606 32.201761 \r\nz\r\n\" style=\"fill:#1f77b4;\"/>\r\n   </g>\r\n   <g id=\"matplotlib.axis_1\">\r\n    <g id=\"xtick_1\">\r\n     <g id=\"line2d_1\">\r\n      <defs>\r\n       <path d=\"M 0 0 \r\nL 0 3.5 \r\n\" id=\"m4a332af918\" style=\"stroke:#000000;stroke-width:0.8;\"/>\r\n      </defs>\r\n      <g>\r\n       <use style=\"stroke:#000000;stroke-width:0.8;\" x=\"224.348286\" xlink:href=\"#m4a332af918\" y=\"239.758125\"/>\r\n      </g>\r\n     </g>\r\n     <g id=\"text_1\">\r\n      <!-- −100 -->\r\n      <g transform=\"translate(210.614693 254.356563)scale(0.1 -0.1)\">\r\n       <defs>\r\n        <path d=\"M 10.59375 35.5 \r\nL 73.1875 35.5 \r\nL 73.1875 27.203125 \r\nL 10.59375 27.203125 \r\nz\r\n\" id=\"DejaVuSans-8722\"/>\r\n        <path d=\"M 12.40625 8.296875 \r\nL 28.515625 8.296875 \r\nL 28.515625 63.921875 \r\nL 10.984375 60.40625 \r\nL 10.984375 69.390625 \r\nL 28.421875 72.90625 \r\nL 38.28125 72.90625 \r\nL 38.28125 8.296875 \r\nL 54.390625 8.296875 \r\nL 54.390625 0 \r\nL 12.40625 0 \r\nz\r\n\" id=\"DejaVuSans-49\"/>\r\n        <path d=\"M 31.78125 66.40625 \r\nQ 24.171875 66.40625 20.328125 58.90625 \r\nQ 16.5 51.421875 16.5 36.375 \r\nQ 16.5 21.390625 20.328125 13.890625 \r\nQ 24.171875 6.390625 31.78125 6.390625 \r\nQ 39.453125 6.390625 43.28125 13.890625 \r\nQ 47.125 21.390625 47.125 36.375 \r\nQ 47.125 51.421875 43.28125 58.90625 \r\nQ 39.453125 66.40625 31.78125 66.40625 \r\nz\r\nM 31.78125 74.21875 \r\nQ 44.046875 74.21875 50.515625 64.515625 \r\nQ 56.984375 54.828125 56.984375 36.375 \r\nQ 56.984375 17.96875 50.515625 8.265625 \r\nQ 44.046875 -1.421875 31.78125 -1.421875 \r\nQ 19.53125 -1.421875 13.0625 8.265625 \r\nQ 6.59375 17.96875 6.59375 36.375 \r\nQ 6.59375 54.828125 13.0625 64.515625 \r\nQ 19.53125 74.21875 31.78125 74.21875 \r\nz\r\n\" id=\"DejaVuSans-48\"/>\r\n       </defs>\r\n       <use xlink:href=\"#DejaVuSans-8722\"/>\r\n       <use x=\"83.789062\" xlink:href=\"#DejaVuSans-49\"/>\r\n       <use x=\"147.412109\" xlink:href=\"#DejaVuSans-48\"/>\r\n       <use x=\"211.035156\" xlink:href=\"#DejaVuSans-48\"/>\r\n      </g>\r\n     </g>\r\n    </g>\r\n    <g id=\"xtick_2\">\r\n     <g id=\"line2d_2\">\r\n      <g>\r\n       <use style=\"stroke:#000000;stroke-width:0.8;\" x=\"292.230446\" xlink:href=\"#m4a332af918\" y=\"239.758125\"/>\r\n      </g>\r\n     </g>\r\n     <g id=\"text_2\">\r\n      <!-- −50 -->\r\n      <g transform=\"translate(281.678103 254.356563)scale(0.1 -0.1)\">\r\n       <defs>\r\n        <path d=\"M 10.796875 72.90625 \r\nL 49.515625 72.90625 \r\nL 49.515625 64.59375 \r\nL 19.828125 64.59375 \r\nL 19.828125 46.734375 \r\nQ 21.96875 47.46875 24.109375 47.828125 \r\nQ 26.265625 48.1875 28.421875 48.1875 \r\nQ 40.625 48.1875 47.75 41.5 \r\nQ 54.890625 34.8125 54.890625 23.390625 \r\nQ 54.890625 11.625 47.5625 5.09375 \r\nQ 40.234375 -1.421875 26.90625 -1.421875 \r\nQ 22.3125 -1.421875 17.546875 -0.640625 \r\nQ 12.796875 0.140625 7.71875 1.703125 \r\nL 7.71875 11.625 \r\nQ 12.109375 9.234375 16.796875 8.0625 \r\nQ 21.484375 6.890625 26.703125 6.890625 \r\nQ 35.15625 6.890625 40.078125 11.328125 \r\nQ 45.015625 15.765625 45.015625 23.390625 \r\nQ 45.015625 31 40.078125 35.4375 \r\nQ 35.15625 39.890625 26.703125 39.890625 \r\nQ 22.75 39.890625 18.8125 39.015625 \r\nQ 14.890625 38.140625 10.796875 36.28125 \r\nz\r\n\" id=\"DejaVuSans-53\"/>\r\n       </defs>\r\n       <use xlink:href=\"#DejaVuSans-8722\"/>\r\n       <use x=\"83.789062\" xlink:href=\"#DejaVuSans-53\"/>\r\n       <use x=\"147.412109\" xlink:href=\"#DejaVuSans-48\"/>\r\n      </g>\r\n     </g>\r\n    </g>\r\n    <g id=\"xtick_3\">\r\n     <g id=\"line2d_3\">\r\n      <g>\r\n       <use style=\"stroke:#000000;stroke-width:0.8;\" x=\"360.112606\" xlink:href=\"#m4a332af918\" y=\"239.758125\"/>\r\n      </g>\r\n     </g>\r\n     <g id=\"text_3\">\r\n      <!-- 0 -->\r\n      <g transform=\"translate(356.931356 254.356563)scale(0.1 -0.1)\">\r\n       <use xlink:href=\"#DejaVuSans-48\"/>\r\n      </g>\r\n     </g>\r\n    </g>\r\n    <g id=\"xtick_4\">\r\n     <g id=\"line2d_4\">\r\n      <g>\r\n       <use style=\"stroke:#000000;stroke-width:0.8;\" x=\"427.994767\" xlink:href=\"#m4a332af918\" y=\"239.758125\"/>\r\n      </g>\r\n     </g>\r\n     <g id=\"text_4\">\r\n      <!-- 50 -->\r\n      <g transform=\"translate(421.632267 254.356563)scale(0.1 -0.1)\">\r\n       <use xlink:href=\"#DejaVuSans-53\"/>\r\n       <use x=\"63.623047\" xlink:href=\"#DejaVuSans-48\"/>\r\n      </g>\r\n     </g>\r\n    </g>\r\n    <g id=\"xtick_5\">\r\n     <g id=\"line2d_5\">\r\n      <g>\r\n       <use style=\"stroke:#000000;stroke-width:0.8;\" x=\"495.876927\" xlink:href=\"#m4a332af918\" y=\"239.758125\"/>\r\n      </g>\r\n     </g>\r\n     <g id=\"text_5\">\r\n      <!-- 100 -->\r\n      <g transform=\"translate(486.333177 254.356563)scale(0.1 -0.1)\">\r\n       <use xlink:href=\"#DejaVuSans-49\"/>\r\n       <use x=\"63.623047\" xlink:href=\"#DejaVuSans-48\"/>\r\n       <use x=\"127.246094\" xlink:href=\"#DejaVuSans-48\"/>\r\n      </g>\r\n     </g>\r\n    </g>\r\n   </g>\r\n   <g id=\"matplotlib.axis_2\">\r\n    <g id=\"ytick_1\">\r\n     <g id=\"line2d_6\">\r\n      <defs>\r\n       <path d=\"M 0 0 \r\nL -3.5 0 \r\n\" id=\"m84b0d58dab\" style=\"stroke:#000000;stroke-width:0.8;\"/>\r\n      </defs>\r\n      <g>\r\n       <use style=\"stroke:#000000;stroke-width:0.8;\" x=\"195.78125\" xlink:href=\"#m84b0d58dab\" y=\"226.686219\"/>\r\n      </g>\r\n     </g>\r\n     <g id=\"text_6\">\r\n      <!-- ANO_FACTURA -->\r\n      <g transform=\"translate(116.284375 230.397156)scale(0.1 -0.1)\">\r\n       <defs>\r\n        <path d=\"M 34.1875 63.1875 \r\nL 20.796875 26.90625 \r\nL 47.609375 26.90625 \r\nz\r\nM 28.609375 72.90625 \r\nL 39.796875 72.90625 \r\nL 67.578125 0 \r\nL 57.328125 0 \r\nL 50.6875 18.703125 \r\nL 17.828125 18.703125 \r\nL 11.1875 0 \r\nL 0.78125 0 \r\nz\r\n\" id=\"DejaVuSans-65\"/>\r\n        <path d=\"M 9.8125 72.90625 \r\nL 23.09375 72.90625 \r\nL 55.421875 11.921875 \r\nL 55.421875 72.90625 \r\nL 64.984375 72.90625 \r\nL 64.984375 0 \r\nL 51.703125 0 \r\nL 19.390625 60.984375 \r\nL 19.390625 0 \r\nL 9.8125 0 \r\nz\r\n\" id=\"DejaVuSans-78\"/>\r\n        <path d=\"M 39.40625 66.21875 \r\nQ 28.65625 66.21875 22.328125 58.203125 \r\nQ 16.015625 50.203125 16.015625 36.375 \r\nQ 16.015625 22.609375 22.328125 14.59375 \r\nQ 28.65625 6.59375 39.40625 6.59375 \r\nQ 50.140625 6.59375 56.421875 14.59375 \r\nQ 62.703125 22.609375 62.703125 36.375 \r\nQ 62.703125 50.203125 56.421875 58.203125 \r\nQ 50.140625 66.21875 39.40625 66.21875 \r\nz\r\nM 39.40625 74.21875 \r\nQ 54.734375 74.21875 63.90625 63.9375 \r\nQ 73.09375 53.65625 73.09375 36.375 \r\nQ 73.09375 19.140625 63.90625 8.859375 \r\nQ 54.734375 -1.421875 39.40625 -1.421875 \r\nQ 24.03125 -1.421875 14.8125 8.828125 \r\nQ 5.609375 19.09375 5.609375 36.375 \r\nQ 5.609375 53.65625 14.8125 63.9375 \r\nQ 24.03125 74.21875 39.40625 74.21875 \r\nz\r\n\" id=\"DejaVuSans-79\"/>\r\n        <path d=\"M 50.984375 -16.609375 \r\nL 50.984375 -23.578125 \r\nL -0.984375 -23.578125 \r\nL -0.984375 -16.609375 \r\nz\r\n\" id=\"DejaVuSans-95\"/>\r\n        <path d=\"M 9.8125 72.90625 \r\nL 51.703125 72.90625 \r\nL 51.703125 64.59375 \r\nL 19.671875 64.59375 \r\nL 19.671875 43.109375 \r\nL 48.578125 43.109375 \r\nL 48.578125 34.8125 \r\nL 19.671875 34.8125 \r\nL 19.671875 0 \r\nL 9.8125 0 \r\nz\r\n\" id=\"DejaVuSans-70\"/>\r\n        <path d=\"M 64.40625 67.28125 \r\nL 64.40625 56.890625 \r\nQ 59.421875 61.53125 53.78125 63.8125 \r\nQ 48.140625 66.109375 41.796875 66.109375 \r\nQ 29.296875 66.109375 22.65625 58.46875 \r\nQ 16.015625 50.828125 16.015625 36.375 \r\nQ 16.015625 21.96875 22.65625 14.328125 \r\nQ 29.296875 6.6875 41.796875 6.6875 \r\nQ 48.140625 6.6875 53.78125 8.984375 \r\nQ 59.421875 11.28125 64.40625 15.921875 \r\nL 64.40625 5.609375 \r\nQ 59.234375 2.09375 53.4375 0.328125 \r\nQ 47.65625 -1.421875 41.21875 -1.421875 \r\nQ 24.65625 -1.421875 15.125 8.703125 \r\nQ 5.609375 18.84375 5.609375 36.375 \r\nQ 5.609375 53.953125 15.125 64.078125 \r\nQ 24.65625 74.21875 41.21875 74.21875 \r\nQ 47.75 74.21875 53.53125 72.484375 \r\nQ 59.328125 70.75 64.40625 67.28125 \r\nz\r\n\" id=\"DejaVuSans-67\"/>\r\n        <path d=\"M -0.296875 72.90625 \r\nL 61.375 72.90625 \r\nL 61.375 64.59375 \r\nL 35.5 64.59375 \r\nL 35.5 0 \r\nL 25.59375 0 \r\nL 25.59375 64.59375 \r\nL -0.296875 64.59375 \r\nz\r\n\" id=\"DejaVuSans-84\"/>\r\n        <path d=\"M 8.6875 72.90625 \r\nL 18.609375 72.90625 \r\nL 18.609375 28.609375 \r\nQ 18.609375 16.890625 22.84375 11.734375 \r\nQ 27.09375 6.59375 36.625 6.59375 \r\nQ 46.09375 6.59375 50.34375 11.734375 \r\nQ 54.59375 16.890625 54.59375 28.609375 \r\nL 54.59375 72.90625 \r\nL 64.5 72.90625 \r\nL 64.5 27.390625 \r\nQ 64.5 13.140625 57.4375 5.859375 \r\nQ 50.390625 -1.421875 36.625 -1.421875 \r\nQ 22.796875 -1.421875 15.734375 5.859375 \r\nQ 8.6875 13.140625 8.6875 27.390625 \r\nz\r\n\" id=\"DejaVuSans-85\"/>\r\n        <path d=\"M 44.390625 34.1875 \r\nQ 47.5625 33.109375 50.5625 29.59375 \r\nQ 53.5625 26.078125 56.59375 19.921875 \r\nL 66.609375 0 \r\nL 56 0 \r\nL 46.6875 18.703125 \r\nQ 43.0625 26.03125 39.671875 28.421875 \r\nQ 36.28125 30.8125 30.421875 30.8125 \r\nL 19.671875 30.8125 \r\nL 19.671875 0 \r\nL 9.8125 0 \r\nL 9.8125 72.90625 \r\nL 32.078125 72.90625 \r\nQ 44.578125 72.90625 50.734375 67.671875 \r\nQ 56.890625 62.453125 56.890625 51.90625 \r\nQ 56.890625 45.015625 53.6875 40.46875 \r\nQ 50.484375 35.9375 44.390625 34.1875 \r\nz\r\nM 19.671875 64.796875 \r\nL 19.671875 38.921875 \r\nL 32.078125 38.921875 \r\nQ 39.203125 38.921875 42.84375 42.21875 \r\nQ 46.484375 45.515625 46.484375 51.90625 \r\nQ 46.484375 58.296875 42.84375 61.546875 \r\nQ 39.203125 64.796875 32.078125 64.796875 \r\nz\r\n\" id=\"DejaVuSans-82\"/>\r\n       </defs>\r\n       <use xlink:href=\"#DejaVuSans-65\"/>\r\n       <use x=\"68.408203\" xlink:href=\"#DejaVuSans-78\"/>\r\n       <use x=\"143.212891\" xlink:href=\"#DejaVuSans-79\"/>\r\n       <use x=\"221.923828\" xlink:href=\"#DejaVuSans-95\"/>\r\n       <use x=\"271.923828\" xlink:href=\"#DejaVuSans-70\"/>\r\n       <use x=\"320.318359\" xlink:href=\"#DejaVuSans-65\"/>\r\n       <use x=\"386.976562\" xlink:href=\"#DejaVuSans-67\"/>\r\n       <use x=\"456.800781\" xlink:href=\"#DejaVuSans-84\"/>\r\n       <use x=\"517.884766\" xlink:href=\"#DejaVuSans-85\"/>\r\n       <use x=\"591.078125\" xlink:href=\"#DejaVuSans-82\"/>\r\n       <use x=\"656.560547\" xlink:href=\"#DejaVuSans-65\"/>\r\n      </g>\r\n     </g>\r\n    </g>\r\n    <g id=\"ytick_2\">\r\n     <g id=\"line2d_7\">\r\n      <g>\r\n       <use style=\"stroke:#000000;stroke-width:0.8;\" x=\"195.78125\" xlink:href=\"#m84b0d58dab\" y=\"218.715544\"/>\r\n      </g>\r\n     </g>\r\n     <g id=\"text_7\">\r\n      <!-- MES_FACTURA -->\r\n      <g transform=\"translate(117.182812 222.426482)scale(0.1 -0.1)\">\r\n       <defs>\r\n        <path d=\"M 9.8125 72.90625 \r\nL 24.515625 72.90625 \r\nL 43.109375 23.296875 \r\nL 61.8125 72.90625 \r\nL 76.515625 72.90625 \r\nL 76.515625 0 \r\nL 66.890625 0 \r\nL 66.890625 64.015625 \r\nL 48.09375 14.015625 \r\nL 38.1875 14.015625 \r\nL 19.390625 64.015625 \r\nL 19.390625 0 \r\nL 9.8125 0 \r\nz\r\n\" id=\"DejaVuSans-77\"/>\r\n        <path d=\"M 9.8125 72.90625 \r\nL 55.90625 72.90625 \r\nL 55.90625 64.59375 \r\nL 19.671875 64.59375 \r\nL 19.671875 43.015625 \r\nL 54.390625 43.015625 \r\nL 54.390625 34.71875 \r\nL 19.671875 34.71875 \r\nL 19.671875 8.296875 \r\nL 56.78125 8.296875 \r\nL 56.78125 0 \r\nL 9.8125 0 \r\nz\r\n\" id=\"DejaVuSans-69\"/>\r\n        <path d=\"M 53.515625 70.515625 \r\nL 53.515625 60.890625 \r\nQ 47.90625 63.578125 42.921875 64.890625 \r\nQ 37.9375 66.21875 33.296875 66.21875 \r\nQ 25.25 66.21875 20.875 63.09375 \r\nQ 16.5 59.96875 16.5 54.203125 \r\nQ 16.5 49.359375 19.40625 46.890625 \r\nQ 22.3125 44.4375 30.421875 42.921875 \r\nL 36.375 41.703125 \r\nQ 47.40625 39.59375 52.65625 34.296875 \r\nQ 57.90625 29 57.90625 20.125 \r\nQ 57.90625 9.515625 50.796875 4.046875 \r\nQ 43.703125 -1.421875 29.984375 -1.421875 \r\nQ 24.8125 -1.421875 18.96875 -0.25 \r\nQ 13.140625 0.921875 6.890625 3.21875 \r\nL 6.890625 13.375 \r\nQ 12.890625 10.015625 18.65625 8.296875 \r\nQ 24.421875 6.59375 29.984375 6.59375 \r\nQ 38.421875 6.59375 43.015625 9.90625 \r\nQ 47.609375 13.234375 47.609375 19.390625 \r\nQ 47.609375 24.75 44.3125 27.78125 \r\nQ 41.015625 30.8125 33.5 32.328125 \r\nL 27.484375 33.5 \r\nQ 16.453125 35.6875 11.515625 40.375 \r\nQ 6.59375 45.0625 6.59375 53.421875 \r\nQ 6.59375 63.09375 13.40625 68.65625 \r\nQ 20.21875 74.21875 32.171875 74.21875 \r\nQ 37.3125 74.21875 42.625 73.28125 \r\nQ 47.953125 72.359375 53.515625 70.515625 \r\nz\r\n\" id=\"DejaVuSans-83\"/>\r\n       </defs>\r\n       <use xlink:href=\"#DejaVuSans-77\"/>\r\n       <use x=\"86.279297\" xlink:href=\"#DejaVuSans-69\"/>\r\n       <use x=\"149.462891\" xlink:href=\"#DejaVuSans-83\"/>\r\n       <use x=\"212.939453\" xlink:href=\"#DejaVuSans-95\"/>\r\n       <use x=\"262.939453\" xlink:href=\"#DejaVuSans-70\"/>\r\n       <use x=\"311.333984\" xlink:href=\"#DejaVuSans-65\"/>\r\n       <use x=\"377.992188\" xlink:href=\"#DejaVuSans-67\"/>\r\n       <use x=\"447.816406\" xlink:href=\"#DejaVuSans-84\"/>\r\n       <use x=\"508.900391\" xlink:href=\"#DejaVuSans-85\"/>\r\n       <use x=\"582.09375\" xlink:href=\"#DejaVuSans-82\"/>\r\n       <use x=\"647.576172\" xlink:href=\"#DejaVuSans-65\"/>\r\n      </g>\r\n     </g>\r\n    </g>\r\n    <g id=\"ytick_3\">\r\n     <g id=\"line2d_8\">\r\n      <g>\r\n       <use style=\"stroke:#000000;stroke-width:0.8;\" x=\"195.78125\" xlink:href=\"#m84b0d58dab\" y=\"210.74487\"/>\r\n      </g>\r\n     </g>\r\n     <g id=\"text_8\">\r\n      <!-- FECHA_FACTURA -->\r\n      <g transform=\"translate(105.064062 214.455807)scale(0.1 -0.1)\">\r\n       <defs>\r\n        <path d=\"M 9.8125 72.90625 \r\nL 19.671875 72.90625 \r\nL 19.671875 43.015625 \r\nL 55.515625 43.015625 \r\nL 55.515625 72.90625 \r\nL 65.375 72.90625 \r\nL 65.375 0 \r\nL 55.515625 0 \r\nL 55.515625 34.71875 \r\nL 19.671875 34.71875 \r\nL 19.671875 0 \r\nL 9.8125 0 \r\nz\r\n\" id=\"DejaVuSans-72\"/>\r\n       </defs>\r\n       <use xlink:href=\"#DejaVuSans-70\"/>\r\n       <use x=\"57.519531\" xlink:href=\"#DejaVuSans-69\"/>\r\n       <use x=\"120.703125\" xlink:href=\"#DejaVuSans-67\"/>\r\n       <use x=\"190.527344\" xlink:href=\"#DejaVuSans-72\"/>\r\n       <use x=\"265.722656\" xlink:href=\"#DejaVuSans-65\"/>\r\n       <use x=\"334.130859\" xlink:href=\"#DejaVuSans-95\"/>\r\n       <use x=\"384.130859\" xlink:href=\"#DejaVuSans-70\"/>\r\n       <use x=\"432.525391\" xlink:href=\"#DejaVuSans-65\"/>\r\n       <use x=\"499.183594\" xlink:href=\"#DejaVuSans-67\"/>\r\n       <use x=\"569.007812\" xlink:href=\"#DejaVuSans-84\"/>\r\n       <use x=\"630.091797\" xlink:href=\"#DejaVuSans-85\"/>\r\n       <use x=\"703.285156\" xlink:href=\"#DejaVuSans-82\"/>\r\n       <use x=\"768.767578\" xlink:href=\"#DejaVuSans-65\"/>\r\n      </g>\r\n     </g>\r\n    </g>\r\n    <g id=\"ytick_4\">\r\n     <g id=\"line2d_9\">\r\n      <g>\r\n       <use style=\"stroke:#000000;stroke-width:0.8;\" x=\"195.78125\" xlink:href=\"#m84b0d58dab\" y=\"202.774195\"/>\r\n      </g>\r\n     </g>\r\n     <g id=\"text_9\">\r\n      <!-- TEMPORADA_COMERCIAL_ID -->\r\n      <g transform=\"translate(46.825 206.485133)scale(0.1 -0.1)\">\r\n       <defs>\r\n        <path d=\"M 19.671875 64.796875 \r\nL 19.671875 37.40625 \r\nL 32.078125 37.40625 \r\nQ 38.96875 37.40625 42.71875 40.96875 \r\nQ 46.484375 44.53125 46.484375 51.125 \r\nQ 46.484375 57.671875 42.71875 61.234375 \r\nQ 38.96875 64.796875 32.078125 64.796875 \r\nz\r\nM 9.8125 72.90625 \r\nL 32.078125 72.90625 \r\nQ 44.34375 72.90625 50.609375 67.359375 \r\nQ 56.890625 61.8125 56.890625 51.125 \r\nQ 56.890625 40.328125 50.609375 34.8125 \r\nQ 44.34375 29.296875 32.078125 29.296875 \r\nL 19.671875 29.296875 \r\nL 19.671875 0 \r\nL 9.8125 0 \r\nz\r\n\" id=\"DejaVuSans-80\"/>\r\n        <path d=\"M 19.671875 64.796875 \r\nL 19.671875 8.109375 \r\nL 31.59375 8.109375 \r\nQ 46.6875 8.109375 53.6875 14.9375 \r\nQ 60.6875 21.78125 60.6875 36.53125 \r\nQ 60.6875 51.171875 53.6875 57.984375 \r\nQ 46.6875 64.796875 31.59375 64.796875 \r\nz\r\nM 9.8125 72.90625 \r\nL 30.078125 72.90625 \r\nQ 51.265625 72.90625 61.171875 64.09375 \r\nQ 71.09375 55.28125 71.09375 36.53125 \r\nQ 71.09375 17.671875 61.125 8.828125 \r\nQ 51.171875 0 30.078125 0 \r\nL 9.8125 0 \r\nz\r\n\" id=\"DejaVuSans-68\"/>\r\n        <path d=\"M 9.8125 72.90625 \r\nL 19.671875 72.90625 \r\nL 19.671875 0 \r\nL 9.8125 0 \r\nz\r\n\" id=\"DejaVuSans-73\"/>\r\n        <path d=\"M 9.8125 72.90625 \r\nL 19.671875 72.90625 \r\nL 19.671875 8.296875 \r\nL 55.171875 8.296875 \r\nL 55.171875 0 \r\nL 9.8125 0 \r\nz\r\n\" id=\"DejaVuSans-76\"/>\r\n       </defs>\r\n       <use xlink:href=\"#DejaVuSans-84\"/>\r\n       <use x=\"61.083984\" xlink:href=\"#DejaVuSans-69\"/>\r\n       <use x=\"124.267578\" xlink:href=\"#DejaVuSans-77\"/>\r\n       <use x=\"210.546875\" xlink:href=\"#DejaVuSans-80\"/>\r\n       <use x=\"270.849609\" xlink:href=\"#DejaVuSans-79\"/>\r\n       <use x=\"349.560547\" xlink:href=\"#DejaVuSans-82\"/>\r\n       <use x=\"415.042969\" xlink:href=\"#DejaVuSans-65\"/>\r\n       <use x=\"483.451172\" xlink:href=\"#DejaVuSans-68\"/>\r\n       <use x=\"558.703125\" xlink:href=\"#DejaVuSans-65\"/>\r\n       <use x=\"627.111328\" xlink:href=\"#DejaVuSans-95\"/>\r\n       <use x=\"677.111328\" xlink:href=\"#DejaVuSans-67\"/>\r\n       <use x=\"746.935547\" xlink:href=\"#DejaVuSans-79\"/>\r\n       <use x=\"825.646484\" xlink:href=\"#DejaVuSans-77\"/>\r\n       <use x=\"911.925781\" xlink:href=\"#DejaVuSans-69\"/>\r\n       <use x=\"975.109375\" xlink:href=\"#DejaVuSans-82\"/>\r\n       <use x=\"1039.591797\" xlink:href=\"#DejaVuSans-67\"/>\r\n       <use x=\"1109.416016\" xlink:href=\"#DejaVuSans-73\"/>\r\n       <use x=\"1138.908203\" xlink:href=\"#DejaVuSans-65\"/>\r\n       <use x=\"1207.316406\" xlink:href=\"#DejaVuSans-76\"/>\r\n       <use x=\"1263.029297\" xlink:href=\"#DejaVuSans-95\"/>\r\n       <use x=\"1313.029297\" xlink:href=\"#DejaVuSans-73\"/>\r\n       <use x=\"1342.521484\" xlink:href=\"#DejaVuSans-68\"/>\r\n      </g>\r\n     </g>\r\n    </g>\r\n    <g id=\"ytick_5\">\r\n     <g id=\"line2d_10\">\r\n      <g>\r\n       <use style=\"stroke:#000000;stroke-width:0.8;\" x=\"195.78125\" xlink:href=\"#m84b0d58dab\" y=\"194.803521\"/>\r\n      </g>\r\n     </g>\r\n     <g id=\"text_10\">\r\n      <!-- PRODUCTO_ID -->\r\n      <g transform=\"translate(116.3 198.514458)scale(0.1 -0.1)\">\r\n       <use xlink:href=\"#DejaVuSans-80\"/>\r\n       <use x=\"60.302734\" xlink:href=\"#DejaVuSans-82\"/>\r\n       <use x=\"129.785156\" xlink:href=\"#DejaVuSans-79\"/>\r\n       <use x=\"208.496094\" xlink:href=\"#DejaVuSans-68\"/>\r\n       <use x=\"285.498047\" xlink:href=\"#DejaVuSans-85\"/>\r\n       <use x=\"358.691406\" xlink:href=\"#DejaVuSans-67\"/>\r\n       <use x=\"428.515625\" xlink:href=\"#DejaVuSans-84\"/>\r\n       <use x=\"489.599609\" xlink:href=\"#DejaVuSans-79\"/>\r\n       <use x=\"568.310547\" xlink:href=\"#DejaVuSans-95\"/>\r\n       <use x=\"618.310547\" xlink:href=\"#DejaVuSans-73\"/>\r\n       <use x=\"647.802734\" xlink:href=\"#DejaVuSans-68\"/>\r\n      </g>\r\n     </g>\r\n    </g>\r\n    <g id=\"ytick_6\">\r\n     <g id=\"line2d_11\">\r\n      <g>\r\n       <use style=\"stroke:#000000;stroke-width:0.8;\" x=\"195.78125\" xlink:href=\"#m84b0d58dab\" y=\"186.832846\"/>\r\n      </g>\r\n     </g>\r\n     <g id=\"text_11\">\r\n      <!-- TALLA -->\r\n      <g transform=\"translate(158.398438 190.632065)scale(0.1 -0.1)\">\r\n       <use xlink:href=\"#DejaVuSans-84\"/>\r\n       <use x=\"53.333984\" xlink:href=\"#DejaVuSans-65\"/>\r\n       <use x=\"121.742188\" xlink:href=\"#DejaVuSans-76\"/>\r\n       <use x=\"177.455078\" xlink:href=\"#DejaVuSans-76\"/>\r\n       <use x=\"235.417969\" xlink:href=\"#DejaVuSans-65\"/>\r\n      </g>\r\n     </g>\r\n    </g>\r\n    <g id=\"ytick_7\">\r\n     <g id=\"line2d_12\">\r\n      <g>\r\n       <use style=\"stroke:#000000;stroke-width:0.8;\" x=\"195.78125\" xlink:href=\"#m84b0d58dab\" y=\"178.862172\"/>\r\n      </g>\r\n     </g>\r\n     <g id=\"text_12\">\r\n      <!-- ESFUERZO_VENTA_ID -->\r\n      <g transform=\"translate(81.590625 182.573109)scale(0.1 -0.1)\">\r\n       <defs>\r\n        <path d=\"M 5.609375 72.90625 \r\nL 62.890625 72.90625 \r\nL 62.890625 65.375 \r\nL 16.796875 8.296875 \r\nL 64.015625 8.296875 \r\nL 64.015625 0 \r\nL 4.5 0 \r\nL 4.5 7.515625 \r\nL 50.59375 64.59375 \r\nL 5.609375 64.59375 \r\nz\r\n\" id=\"DejaVuSans-90\"/>\r\n        <path d=\"M 28.609375 0 \r\nL 0.78125 72.90625 \r\nL 11.078125 72.90625 \r\nL 34.1875 11.53125 \r\nL 57.328125 72.90625 \r\nL 67.578125 72.90625 \r\nL 39.796875 0 \r\nz\r\n\" id=\"DejaVuSans-86\"/>\r\n       </defs>\r\n       <use xlink:href=\"#DejaVuSans-69\"/>\r\n       <use x=\"63.183594\" xlink:href=\"#DejaVuSans-83\"/>\r\n       <use x=\"126.660156\" xlink:href=\"#DejaVuSans-70\"/>\r\n       <use x=\"184.179688\" xlink:href=\"#DejaVuSans-85\"/>\r\n       <use x=\"257.373047\" xlink:href=\"#DejaVuSans-69\"/>\r\n       <use x=\"320.556641\" xlink:href=\"#DejaVuSans-82\"/>\r\n       <use x=\"390.039062\" xlink:href=\"#DejaVuSans-90\"/>\r\n       <use x=\"458.544922\" xlink:href=\"#DejaVuSans-79\"/>\r\n       <use x=\"537.255859\" xlink:href=\"#DejaVuSans-95\"/>\r\n       <use x=\"587.255859\" xlink:href=\"#DejaVuSans-86\"/>\r\n       <use x=\"655.664062\" xlink:href=\"#DejaVuSans-69\"/>\r\n       <use x=\"718.847656\" xlink:href=\"#DejaVuSans-78\"/>\r\n       <use x=\"793.652344\" xlink:href=\"#DejaVuSans-84\"/>\r\n       <use x=\"846.986328\" xlink:href=\"#DejaVuSans-65\"/>\r\n       <use x=\"915.394531\" xlink:href=\"#DejaVuSans-95\"/>\r\n       <use x=\"965.394531\" xlink:href=\"#DejaVuSans-73\"/>\r\n       <use x=\"994.886719\" xlink:href=\"#DejaVuSans-68\"/>\r\n      </g>\r\n     </g>\r\n    </g>\r\n    <g id=\"ytick_8\">\r\n     <g id=\"line2d_13\">\r\n      <g>\r\n       <use style=\"stroke:#000000;stroke-width:0.8;\" x=\"195.78125\" xlink:href=\"#m84b0d58dab\" y=\"170.891497\"/>\r\n      </g>\r\n     </g>\r\n     <g id=\"text_13\">\r\n      <!-- NUMERO_DEUDOR_PAIS_ID -->\r\n      <g transform=\"translate(53.175 174.602435)scale(0.1 -0.1)\">\r\n       <use xlink:href=\"#DejaVuSans-78\"/>\r\n       <use x=\"74.804688\" xlink:href=\"#DejaVuSans-85\"/>\r\n       <use x=\"147.998047\" xlink:href=\"#DejaVuSans-77\"/>\r\n       <use x=\"234.277344\" xlink:href=\"#DejaVuSans-69\"/>\r\n       <use x=\"297.460938\" xlink:href=\"#DejaVuSans-82\"/>\r\n       <use x=\"366.943359\" xlink:href=\"#DejaVuSans-79\"/>\r\n       <use x=\"445.654297\" xlink:href=\"#DejaVuSans-95\"/>\r\n       <use x=\"495.654297\" xlink:href=\"#DejaVuSans-68\"/>\r\n       <use x=\"572.65625\" xlink:href=\"#DejaVuSans-69\"/>\r\n       <use x=\"635.839844\" xlink:href=\"#DejaVuSans-85\"/>\r\n       <use x=\"709.033203\" xlink:href=\"#DejaVuSans-68\"/>\r\n       <use x=\"786.035156\" xlink:href=\"#DejaVuSans-79\"/>\r\n       <use x=\"864.746094\" xlink:href=\"#DejaVuSans-82\"/>\r\n       <use x=\"934.228516\" xlink:href=\"#DejaVuSans-95\"/>\r\n       <use x=\"984.228516\" xlink:href=\"#DejaVuSans-80\"/>\r\n       <use x=\"1038.15625\" xlink:href=\"#DejaVuSans-65\"/>\r\n       <use x=\"1106.564453\" xlink:href=\"#DejaVuSans-73\"/>\r\n       <use x=\"1136.056641\" xlink:href=\"#DejaVuSans-83\"/>\r\n       <use x=\"1199.533203\" xlink:href=\"#DejaVuSans-95\"/>\r\n       <use x=\"1249.533203\" xlink:href=\"#DejaVuSans-73\"/>\r\n       <use x=\"1279.025391\" xlink:href=\"#DejaVuSans-68\"/>\r\n      </g>\r\n     </g>\r\n    </g>\r\n    <g id=\"ytick_9\">\r\n     <g id=\"line2d_14\">\r\n      <g>\r\n       <use style=\"stroke:#000000;stroke-width:0.8;\" x=\"195.78125\" xlink:href=\"#m84b0d58dab\" y=\"162.920823\"/>\r\n      </g>\r\n     </g>\r\n     <g id=\"text_14\">\r\n      <!-- JERARQUIA_PROD_ID -->\r\n      <g transform=\"translate(84.99375 166.63176)scale(0.1 -0.1)\">\r\n       <defs>\r\n        <path d=\"M 9.8125 72.90625 \r\nL 19.671875 72.90625 \r\nL 19.671875 5.078125 \r\nQ 19.671875 -8.109375 14.671875 -14.0625 \r\nQ 9.671875 -20.015625 -1.421875 -20.015625 \r\nL -5.171875 -20.015625 \r\nL -5.171875 -11.71875 \r\nL -2.09375 -11.71875 \r\nQ 4.4375 -11.71875 7.125 -8.046875 \r\nQ 9.8125 -4.390625 9.8125 5.078125 \r\nz\r\n\" id=\"DejaVuSans-74\"/>\r\n        <path d=\"M 39.40625 66.21875 \r\nQ 28.65625 66.21875 22.328125 58.203125 \r\nQ 16.015625 50.203125 16.015625 36.375 \r\nQ 16.015625 22.609375 22.328125 14.59375 \r\nQ 28.65625 6.59375 39.40625 6.59375 \r\nQ 50.140625 6.59375 56.421875 14.59375 \r\nQ 62.703125 22.609375 62.703125 36.375 \r\nQ 62.703125 50.203125 56.421875 58.203125 \r\nQ 50.140625 66.21875 39.40625 66.21875 \r\nz\r\nM 53.21875 1.3125 \r\nL 66.21875 -12.890625 \r\nL 54.296875 -12.890625 \r\nL 43.5 -1.21875 \r\nQ 41.890625 -1.3125 41.03125 -1.359375 \r\nQ 40.1875 -1.421875 39.40625 -1.421875 \r\nQ 24.03125 -1.421875 14.8125 8.859375 \r\nQ 5.609375 19.140625 5.609375 36.375 \r\nQ 5.609375 53.65625 14.8125 63.9375 \r\nQ 24.03125 74.21875 39.40625 74.21875 \r\nQ 54.734375 74.21875 63.90625 63.9375 \r\nQ 73.09375 53.65625 73.09375 36.375 \r\nQ 73.09375 23.6875 67.984375 14.640625 \r\nQ 62.890625 5.609375 53.21875 1.3125 \r\nz\r\n\" id=\"DejaVuSans-81\"/>\r\n       </defs>\r\n       <use xlink:href=\"#DejaVuSans-74\"/>\r\n       <use x=\"29.492188\" xlink:href=\"#DejaVuSans-69\"/>\r\n       <use x=\"92.675781\" xlink:href=\"#DejaVuSans-82\"/>\r\n       <use x=\"158.158203\" xlink:href=\"#DejaVuSans-65\"/>\r\n       <use x=\"226.566406\" xlink:href=\"#DejaVuSans-82\"/>\r\n       <use x=\"296.048828\" xlink:href=\"#DejaVuSans-81\"/>\r\n       <use x=\"374.759766\" xlink:href=\"#DejaVuSans-85\"/>\r\n       <use x=\"447.953125\" xlink:href=\"#DejaVuSans-73\"/>\r\n       <use x=\"477.445312\" xlink:href=\"#DejaVuSans-65\"/>\r\n       <use x=\"545.853516\" xlink:href=\"#DejaVuSans-95\"/>\r\n       <use x=\"595.853516\" xlink:href=\"#DejaVuSans-80\"/>\r\n       <use x=\"656.15625\" xlink:href=\"#DejaVuSans-82\"/>\r\n       <use x=\"725.638672\" xlink:href=\"#DejaVuSans-79\"/>\r\n       <use x=\"804.349609\" xlink:href=\"#DejaVuSans-68\"/>\r\n       <use x=\"881.351562\" xlink:href=\"#DejaVuSans-95\"/>\r\n       <use x=\"931.351562\" xlink:href=\"#DejaVuSans-73\"/>\r\n       <use x=\"960.84375\" xlink:href=\"#DejaVuSans-68\"/>\r\n      </g>\r\n     </g>\r\n    </g>\r\n    <g id=\"ytick_10\">\r\n     <g id=\"line2d_15\">\r\n      <g>\r\n       <use style=\"stroke:#000000;stroke-width:0.8;\" x=\"195.78125\" xlink:href=\"#m84b0d58dab\" y=\"154.950148\"/>\r\n      </g>\r\n     </g>\r\n     <g id=\"text_15\">\r\n      <!-- GRUPO_ARTICULO_PRODUCTO_ID -->\r\n      <g transform=\"translate(20.878125 158.661086)scale(0.1 -0.1)\">\r\n       <defs>\r\n        <path d=\"M 59.515625 10.40625 \r\nL 59.515625 29.984375 \r\nL 43.40625 29.984375 \r\nL 43.40625 38.09375 \r\nL 69.28125 38.09375 \r\nL 69.28125 6.78125 \r\nQ 63.578125 2.734375 56.6875 0.65625 \r\nQ 49.8125 -1.421875 42 -1.421875 \r\nQ 24.90625 -1.421875 15.25 8.5625 \r\nQ 5.609375 18.5625 5.609375 36.375 \r\nQ 5.609375 54.25 15.25 64.234375 \r\nQ 24.90625 74.21875 42 74.21875 \r\nQ 49.125 74.21875 55.546875 72.453125 \r\nQ 61.96875 70.703125 67.390625 67.28125 \r\nL 67.390625 56.78125 \r\nQ 61.921875 61.421875 55.765625 63.765625 \r\nQ 49.609375 66.109375 42.828125 66.109375 \r\nQ 29.4375 66.109375 22.71875 58.640625 \r\nQ 16.015625 51.171875 16.015625 36.375 \r\nQ 16.015625 21.625 22.71875 14.15625 \r\nQ 29.4375 6.6875 42.828125 6.6875 \r\nQ 48.046875 6.6875 52.140625 7.59375 \r\nQ 56.25 8.5 59.515625 10.40625 \r\nz\r\n\" id=\"DejaVuSans-71\"/>\r\n       </defs>\r\n       <use xlink:href=\"#DejaVuSans-71\"/>\r\n       <use x=\"77.490234\" xlink:href=\"#DejaVuSans-82\"/>\r\n       <use x=\"146.972656\" xlink:href=\"#DejaVuSans-85\"/>\r\n       <use x=\"220.166016\" xlink:href=\"#DejaVuSans-80\"/>\r\n       <use x=\"280.46875\" xlink:href=\"#DejaVuSans-79\"/>\r\n       <use x=\"359.179688\" xlink:href=\"#DejaVuSans-95\"/>\r\n       <use x=\"409.179688\" xlink:href=\"#DejaVuSans-65\"/>\r\n       <use x=\"477.587891\" xlink:href=\"#DejaVuSans-82\"/>\r\n       <use x=\"539.820312\" xlink:href=\"#DejaVuSans-84\"/>\r\n       <use x=\"600.904297\" xlink:href=\"#DejaVuSans-73\"/>\r\n       <use x=\"630.396484\" xlink:href=\"#DejaVuSans-67\"/>\r\n       <use x=\"700.220703\" xlink:href=\"#DejaVuSans-85\"/>\r\n       <use x=\"773.414062\" xlink:href=\"#DejaVuSans-76\"/>\r\n       <use x=\"825.501953\" xlink:href=\"#DejaVuSans-79\"/>\r\n       <use x=\"904.212891\" xlink:href=\"#DejaVuSans-95\"/>\r\n       <use x=\"954.212891\" xlink:href=\"#DejaVuSans-80\"/>\r\n       <use x=\"1014.515625\" xlink:href=\"#DejaVuSans-82\"/>\r\n       <use x=\"1083.998047\" xlink:href=\"#DejaVuSans-79\"/>\r\n       <use x=\"1162.708984\" xlink:href=\"#DejaVuSans-68\"/>\r\n       <use x=\"1239.710938\" xlink:href=\"#DejaVuSans-85\"/>\r\n       <use x=\"1312.904297\" xlink:href=\"#DejaVuSans-67\"/>\r\n       <use x=\"1382.728516\" xlink:href=\"#DejaVuSans-84\"/>\r\n       <use x=\"1443.8125\" xlink:href=\"#DejaVuSans-79\"/>\r\n       <use x=\"1522.523438\" xlink:href=\"#DejaVuSans-95\"/>\r\n       <use x=\"1572.523438\" xlink:href=\"#DejaVuSans-73\"/>\r\n       <use x=\"1602.015625\" xlink:href=\"#DejaVuSans-68\"/>\r\n      </g>\r\n     </g>\r\n    </g>\r\n    <g id=\"ytick_11\">\r\n     <g id=\"line2d_16\">\r\n      <g>\r\n       <use style=\"stroke:#000000;stroke-width:0.8;\" x=\"195.78125\" xlink:href=\"#m84b0d58dab\" y=\"146.979474\"/>\r\n      </g>\r\n     </g>\r\n     <g id=\"text_16\">\r\n      <!-- GENERO_PRODUCTO -->\r\n      <g transform=\"translate(84.2625 150.690411)scale(0.1 -0.1)\">\r\n       <use xlink:href=\"#DejaVuSans-71\"/>\r\n       <use x=\"77.490234\" xlink:href=\"#DejaVuSans-69\"/>\r\n       <use x=\"140.673828\" xlink:href=\"#DejaVuSans-78\"/>\r\n       <use x=\"215.478516\" xlink:href=\"#DejaVuSans-69\"/>\r\n       <use x=\"278.662109\" xlink:href=\"#DejaVuSans-82\"/>\r\n       <use x=\"348.144531\" xlink:href=\"#DejaVuSans-79\"/>\r\n       <use x=\"426.855469\" xlink:href=\"#DejaVuSans-95\"/>\r\n       <use x=\"476.855469\" xlink:href=\"#DejaVuSans-80\"/>\r\n       <use x=\"537.158203\" xlink:href=\"#DejaVuSans-82\"/>\r\n       <use x=\"606.640625\" xlink:href=\"#DejaVuSans-79\"/>\r\n       <use x=\"685.351562\" xlink:href=\"#DejaVuSans-68\"/>\r\n       <use x=\"762.353516\" xlink:href=\"#DejaVuSans-85\"/>\r\n       <use x=\"835.546875\" xlink:href=\"#DejaVuSans-67\"/>\r\n       <use x=\"905.371094\" xlink:href=\"#DejaVuSans-84\"/>\r\n       <use x=\"966.455078\" xlink:href=\"#DejaVuSans-79\"/>\r\n      </g>\r\n     </g>\r\n    </g>\r\n    <g id=\"ytick_12\">\r\n     <g id=\"line2d_17\">\r\n      <g>\r\n       <use style=\"stroke:#000000;stroke-width:0.8;\" x=\"195.78125\" xlink:href=\"#m84b0d58dab\" y=\"139.008799\"/>\r\n      </g>\r\n     </g>\r\n     <g id=\"text_17\">\r\n      <!-- CATEGORIA -->\r\n      <g transform=\"translate(130.946875 142.808018)scale(0.1 -0.1)\">\r\n       <use xlink:href=\"#DejaVuSans-67\"/>\r\n       <use x=\"69.824219\" xlink:href=\"#DejaVuSans-65\"/>\r\n       <use x=\"130.482422\" xlink:href=\"#DejaVuSans-84\"/>\r\n       <use x=\"191.566406\" xlink:href=\"#DejaVuSans-69\"/>\r\n       <use x=\"254.75\" xlink:href=\"#DejaVuSans-71\"/>\r\n       <use x=\"332.240234\" xlink:href=\"#DejaVuSans-79\"/>\r\n       <use x=\"410.951172\" xlink:href=\"#DejaVuSans-82\"/>\r\n       <use x=\"480.433594\" xlink:href=\"#DejaVuSans-73\"/>\r\n       <use x=\"509.925781\" xlink:href=\"#DejaVuSans-65\"/>\r\n      </g>\r\n     </g>\r\n    </g>\r\n    <g id=\"ytick_13\">\r\n     <g id=\"line2d_18\">\r\n      <g>\r\n       <use style=\"stroke:#000000;stroke-width:0.8;\" x=\"195.78125\" xlink:href=\"#m84b0d58dab\" y=\"131.038125\"/>\r\n      </g>\r\n     </g>\r\n     <g id=\"text_18\">\r\n      <!-- TIPOLOGIA -->\r\n      <g transform=\"translate(135.201562 134.837344)scale(0.1 -0.1)\">\r\n       <use xlink:href=\"#DejaVuSans-84\"/>\r\n       <use x=\"61.083984\" xlink:href=\"#DejaVuSans-73\"/>\r\n       <use x=\"90.576172\" xlink:href=\"#DejaVuSans-80\"/>\r\n       <use x=\"150.878906\" xlink:href=\"#DejaVuSans-79\"/>\r\n       <use x=\"229.589844\" xlink:href=\"#DejaVuSans-76\"/>\r\n       <use x=\"281.677734\" xlink:href=\"#DejaVuSans-79\"/>\r\n       <use x=\"360.388672\" xlink:href=\"#DejaVuSans-71\"/>\r\n       <use x=\"437.878906\" xlink:href=\"#DejaVuSans-73\"/>\r\n       <use x=\"467.371094\" xlink:href=\"#DejaVuSans-65\"/>\r\n      </g>\r\n     </g>\r\n    </g>\r\n    <g id=\"ytick_14\">\r\n     <g id=\"line2d_19\">\r\n      <g>\r\n       <use style=\"stroke:#000000;stroke-width:0.8;\" x=\"195.78125\" xlink:href=\"#m84b0d58dab\" y=\"123.067451\"/>\r\n      </g>\r\n     </g>\r\n     <g id=\"text_19\">\r\n      <!-- CONSUMER_COLOR -->\r\n      <g transform=\"translate(90.998437 126.778388)scale(0.1 -0.1)\">\r\n       <use xlink:href=\"#DejaVuSans-67\"/>\r\n       <use x=\"69.824219\" xlink:href=\"#DejaVuSans-79\"/>\r\n       <use x=\"148.535156\" xlink:href=\"#DejaVuSans-78\"/>\r\n       <use x=\"223.339844\" xlink:href=\"#DejaVuSans-83\"/>\r\n       <use x=\"286.816406\" xlink:href=\"#DejaVuSans-85\"/>\r\n       <use x=\"360.009766\" xlink:href=\"#DejaVuSans-77\"/>\r\n       <use x=\"446.289062\" xlink:href=\"#DejaVuSans-69\"/>\r\n       <use x=\"509.472656\" xlink:href=\"#DejaVuSans-82\"/>\r\n       <use x=\"578.955078\" xlink:href=\"#DejaVuSans-95\"/>\r\n       <use x=\"628.955078\" xlink:href=\"#DejaVuSans-67\"/>\r\n       <use x=\"698.779297\" xlink:href=\"#DejaVuSans-79\"/>\r\n       <use x=\"777.490234\" xlink:href=\"#DejaVuSans-76\"/>\r\n       <use x=\"829.578125\" xlink:href=\"#DejaVuSans-79\"/>\r\n       <use x=\"908.289062\" xlink:href=\"#DejaVuSans-82\"/>\r\n      </g>\r\n     </g>\r\n    </g>\r\n    <g id=\"ytick_15\">\r\n     <g id=\"line2d_20\">\r\n      <g>\r\n       <use style=\"stroke:#000000;stroke-width:0.8;\" x=\"195.78125\" xlink:href=\"#m84b0d58dab\" y=\"115.096776\"/>\r\n      </g>\r\n     </g>\r\n     <g id=\"text_20\">\r\n      <!-- CREMALLERA -->\r\n      <g transform=\"translate(122.210938 118.895995)scale(0.1 -0.1)\">\r\n       <use xlink:href=\"#DejaVuSans-67\"/>\r\n       <use x=\"69.824219\" xlink:href=\"#DejaVuSans-82\"/>\r\n       <use x=\"139.306641\" xlink:href=\"#DejaVuSans-69\"/>\r\n       <use x=\"202.490234\" xlink:href=\"#DejaVuSans-77\"/>\r\n       <use x=\"288.769531\" xlink:href=\"#DejaVuSans-65\"/>\r\n       <use x=\"357.177734\" xlink:href=\"#DejaVuSans-76\"/>\r\n       <use x=\"412.890625\" xlink:href=\"#DejaVuSans-76\"/>\r\n       <use x=\"468.603516\" xlink:href=\"#DejaVuSans-69\"/>\r\n       <use x=\"531.787109\" xlink:href=\"#DejaVuSans-82\"/>\r\n       <use x=\"597.269531\" xlink:href=\"#DejaVuSans-65\"/>\r\n      </g>\r\n     </g>\r\n    </g>\r\n    <g id=\"ytick_16\">\r\n     <g id=\"line2d_21\">\r\n      <g>\r\n       <use style=\"stroke:#000000;stroke-width:0.8;\" x=\"195.78125\" xlink:href=\"#m84b0d58dab\" y=\"107.126102\"/>\r\n      </g>\r\n     </g>\r\n     <g id=\"text_21\">\r\n      <!-- CORDONES -->\r\n      <g transform=\"translate(131.257812 110.92532)scale(0.1 -0.1)\">\r\n       <use xlink:href=\"#DejaVuSans-67\"/>\r\n       <use x=\"69.824219\" xlink:href=\"#DejaVuSans-79\"/>\r\n       <use x=\"148.535156\" xlink:href=\"#DejaVuSans-82\"/>\r\n       <use x=\"218.017578\" xlink:href=\"#DejaVuSans-68\"/>\r\n       <use x=\"295.019531\" xlink:href=\"#DejaVuSans-79\"/>\r\n       <use x=\"373.730469\" xlink:href=\"#DejaVuSans-78\"/>\r\n       <use x=\"448.535156\" xlink:href=\"#DejaVuSans-69\"/>\r\n       <use x=\"511.71875\" xlink:href=\"#DejaVuSans-83\"/>\r\n      </g>\r\n     </g>\r\n    </g>\r\n    <g id=\"ytick_17\">\r\n     <g id=\"line2d_22\">\r\n      <g>\r\n       <use style=\"stroke:#000000;stroke-width:0.8;\" x=\"195.78125\" xlink:href=\"#m84b0d58dab\" y=\"99.155427\"/>\r\n      </g>\r\n     </g>\r\n     <g id=\"text_22\">\r\n      <!-- OUTSOLE_SUELA_TIPO -->\r\n      <g transform=\"translate(75.789062 102.866365)scale(0.1 -0.1)\">\r\n       <use xlink:href=\"#DejaVuSans-79\"/>\r\n       <use x=\"78.710938\" xlink:href=\"#DejaVuSans-85\"/>\r\n       <use x=\"151.904297\" xlink:href=\"#DejaVuSans-84\"/>\r\n       <use x=\"212.988281\" xlink:href=\"#DejaVuSans-83\"/>\r\n       <use x=\"276.464844\" xlink:href=\"#DejaVuSans-79\"/>\r\n       <use x=\"355.175781\" xlink:href=\"#DejaVuSans-76\"/>\r\n       <use x=\"410.888672\" xlink:href=\"#DejaVuSans-69\"/>\r\n       <use x=\"474.072266\" xlink:href=\"#DejaVuSans-95\"/>\r\n       <use x=\"524.072266\" xlink:href=\"#DejaVuSans-83\"/>\r\n       <use x=\"587.548828\" xlink:href=\"#DejaVuSans-85\"/>\r\n       <use x=\"660.742188\" xlink:href=\"#DejaVuSans-69\"/>\r\n       <use x=\"723.925781\" xlink:href=\"#DejaVuSans-76\"/>\r\n       <use x=\"781.888672\" xlink:href=\"#DejaVuSans-65\"/>\r\n       <use x=\"850.296875\" xlink:href=\"#DejaVuSans-95\"/>\r\n       <use x=\"900.296875\" xlink:href=\"#DejaVuSans-84\"/>\r\n       <use x=\"961.380859\" xlink:href=\"#DejaVuSans-73\"/>\r\n       <use x=\"990.873047\" xlink:href=\"#DejaVuSans-80\"/>\r\n       <use x=\"1051.175781\" xlink:href=\"#DejaVuSans-79\"/>\r\n      </g>\r\n     </g>\r\n    </g>\r\n    <g id=\"ytick_18\">\r\n     <g id=\"line2d_23\">\r\n      <g>\r\n       <use style=\"stroke:#000000;stroke-width:0.8;\" x=\"195.78125\" xlink:href=\"#m84b0d58dab\" y=\"91.184753\"/>\r\n      </g>\r\n     </g>\r\n     <g id=\"text_23\">\r\n      <!-- OUTSOLE_SUELA_SUBTIPO -->\r\n      <g transform=\"translate(55.260937 94.89569)scale(0.1 -0.1)\">\r\n       <defs>\r\n        <path d=\"M 19.671875 34.8125 \r\nL 19.671875 8.109375 \r\nL 35.5 8.109375 \r\nQ 43.453125 8.109375 47.28125 11.40625 \r\nQ 51.125 14.703125 51.125 21.484375 \r\nQ 51.125 28.328125 47.28125 31.5625 \r\nQ 43.453125 34.8125 35.5 34.8125 \r\nz\r\nM 19.671875 64.796875 \r\nL 19.671875 42.828125 \r\nL 34.28125 42.828125 \r\nQ 41.5 42.828125 45.03125 45.53125 \r\nQ 48.578125 48.25 48.578125 53.8125 \r\nQ 48.578125 59.328125 45.03125 62.0625 \r\nQ 41.5 64.796875 34.28125 64.796875 \r\nz\r\nM 9.8125 72.90625 \r\nL 35.015625 72.90625 \r\nQ 46.296875 72.90625 52.390625 68.21875 \r\nQ 58.5 63.53125 58.5 54.890625 \r\nQ 58.5 48.1875 55.375 44.234375 \r\nQ 52.25 40.28125 46.1875 39.3125 \r\nQ 53.46875 37.75 57.5 32.78125 \r\nQ 61.53125 27.828125 61.53125 20.40625 \r\nQ 61.53125 10.640625 54.890625 5.3125 \r\nQ 48.25 0 35.984375 0 \r\nL 9.8125 0 \r\nz\r\n\" id=\"DejaVuSans-66\"/>\r\n       </defs>\r\n       <use xlink:href=\"#DejaVuSans-79\"/>\r\n       <use x=\"78.710938\" xlink:href=\"#DejaVuSans-85\"/>\r\n       <use x=\"151.904297\" xlink:href=\"#DejaVuSans-84\"/>\r\n       <use x=\"212.988281\" xlink:href=\"#DejaVuSans-83\"/>\r\n       <use x=\"276.464844\" xlink:href=\"#DejaVuSans-79\"/>\r\n       <use x=\"355.175781\" xlink:href=\"#DejaVuSans-76\"/>\r\n       <use x=\"410.888672\" xlink:href=\"#DejaVuSans-69\"/>\r\n       <use x=\"474.072266\" xlink:href=\"#DejaVuSans-95\"/>\r\n       <use x=\"524.072266\" xlink:href=\"#DejaVuSans-83\"/>\r\n       <use x=\"587.548828\" xlink:href=\"#DejaVuSans-85\"/>\r\n       <use x=\"660.742188\" xlink:href=\"#DejaVuSans-69\"/>\r\n       <use x=\"723.925781\" xlink:href=\"#DejaVuSans-76\"/>\r\n       <use x=\"781.888672\" xlink:href=\"#DejaVuSans-65\"/>\r\n       <use x=\"850.296875\" xlink:href=\"#DejaVuSans-95\"/>\r\n       <use x=\"900.296875\" xlink:href=\"#DejaVuSans-83\"/>\r\n       <use x=\"963.773438\" xlink:href=\"#DejaVuSans-85\"/>\r\n       <use x=\"1036.966797\" xlink:href=\"#DejaVuSans-66\"/>\r\n       <use x=\"1105.570312\" xlink:href=\"#DejaVuSans-84\"/>\r\n       <use x=\"1166.654297\" xlink:href=\"#DejaVuSans-73\"/>\r\n       <use x=\"1196.146484\" xlink:href=\"#DejaVuSans-80\"/>\r\n       <use x=\"1256.449219\" xlink:href=\"#DejaVuSans-79\"/>\r\n      </g>\r\n     </g>\r\n    </g>\r\n    <g id=\"ytick_19\">\r\n     <g id=\"line2d_24\">\r\n      <g>\r\n       <use style=\"stroke:#000000;stroke-width:0.8;\" x=\"195.78125\" xlink:href=\"#m84b0d58dab\" y=\"83.214078\"/>\r\n      </g>\r\n     </g>\r\n     <g id=\"text_24\">\r\n      <!-- PLANTILLA_EXTRAIBLE -->\r\n      <g transform=\"translate(76.173437 86.874234)scale(0.1 -0.1)\">\r\n       <defs>\r\n        <path d=\"M 6.296875 72.90625 \r\nL 16.890625 72.90625 \r\nL 35.015625 45.796875 \r\nL 53.21875 72.90625 \r\nL 63.8125 72.90625 \r\nL 40.375 37.890625 \r\nL 65.375 0 \r\nL 54.78125 0 \r\nL 34.28125 31 \r\nL 13.625 0 \r\nL 2.984375 0 \r\nL 29 38.921875 \r\nz\r\n\" id=\"DejaVuSans-88\"/>\r\n       </defs>\r\n       <use xlink:href=\"#DejaVuSans-80\"/>\r\n       <use x=\"60.302734\" xlink:href=\"#DejaVuSans-76\"/>\r\n       <use x=\"118.265625\" xlink:href=\"#DejaVuSans-65\"/>\r\n       <use x=\"186.673828\" xlink:href=\"#DejaVuSans-78\"/>\r\n       <use x=\"261.478516\" xlink:href=\"#DejaVuSans-84\"/>\r\n       <use x=\"322.5625\" xlink:href=\"#DejaVuSans-73\"/>\r\n       <use x=\"352.054688\" xlink:href=\"#DejaVuSans-76\"/>\r\n       <use x=\"407.767578\" xlink:href=\"#DejaVuSans-76\"/>\r\n       <use x=\"465.730469\" xlink:href=\"#DejaVuSans-65\"/>\r\n       <use x=\"534.138672\" xlink:href=\"#DejaVuSans-95\"/>\r\n       <use x=\"584.138672\" xlink:href=\"#DejaVuSans-69\"/>\r\n       <use x=\"647.322266\" xlink:href=\"#DejaVuSans-88\"/>\r\n       <use x=\"714.078125\" xlink:href=\"#DejaVuSans-84\"/>\r\n       <use x=\"775.162109\" xlink:href=\"#DejaVuSans-82\"/>\r\n       <use x=\"840.644531\" xlink:href=\"#DejaVuSans-65\"/>\r\n       <use x=\"909.052734\" xlink:href=\"#DejaVuSans-73\"/>\r\n       <use x=\"938.544922\" xlink:href=\"#DejaVuSans-66\"/>\r\n       <use x=\"1007.148438\" xlink:href=\"#DejaVuSans-76\"/>\r\n       <use x=\"1062.861328\" xlink:href=\"#DejaVuSans-69\"/>\r\n      </g>\r\n     </g>\r\n    </g>\r\n    <g id=\"ytick_20\">\r\n     <g id=\"line2d_25\">\r\n      <g>\r\n       <use style=\"stroke:#000000;stroke-width:0.8;\" x=\"195.78125\" xlink:href=\"#m84b0d58dab\" y=\"75.243404\"/>\r\n      </g>\r\n     </g>\r\n     <g id=\"text_25\">\r\n      <!-- CONTACTO_SN -->\r\n      <g transform=\"translate(114.654687 78.954341)scale(0.1 -0.1)\">\r\n       <use xlink:href=\"#DejaVuSans-67\"/>\r\n       <use x=\"69.824219\" xlink:href=\"#DejaVuSans-79\"/>\r\n       <use x=\"148.535156\" xlink:href=\"#DejaVuSans-78\"/>\r\n       <use x=\"223.339844\" xlink:href=\"#DejaVuSans-84\"/>\r\n       <use x=\"276.673828\" xlink:href=\"#DejaVuSans-65\"/>\r\n       <use x=\"343.332031\" xlink:href=\"#DejaVuSans-67\"/>\r\n       <use x=\"413.15625\" xlink:href=\"#DejaVuSans-84\"/>\r\n       <use x=\"474.240234\" xlink:href=\"#DejaVuSans-79\"/>\r\n       <use x=\"552.951172\" xlink:href=\"#DejaVuSans-95\"/>\r\n       <use x=\"602.951172\" xlink:href=\"#DejaVuSans-83\"/>\r\n       <use x=\"666.427734\" xlink:href=\"#DejaVuSans-78\"/>\r\n      </g>\r\n     </g>\r\n    </g>\r\n    <g id=\"ytick_21\">\r\n     <g id=\"line2d_26\">\r\n      <g>\r\n       <use style=\"stroke:#000000;stroke-width:0.8;\" x=\"195.78125\" xlink:href=\"#m84b0d58dab\" y=\"67.272729\"/>\r\n      </g>\r\n     </g>\r\n     <g id=\"text_26\">\r\n      <!-- EDAD_SN -->\r\n      <g transform=\"translate(141.567187 70.983667)scale(0.1 -0.1)\">\r\n       <use xlink:href=\"#DejaVuSans-69\"/>\r\n       <use x=\"63.183594\" xlink:href=\"#DejaVuSans-68\"/>\r\n       <use x=\"138.435547\" xlink:href=\"#DejaVuSans-65\"/>\r\n       <use x=\"206.84375\" xlink:href=\"#DejaVuSans-68\"/>\r\n       <use x=\"283.845703\" xlink:href=\"#DejaVuSans-95\"/>\r\n       <use x=\"333.845703\" xlink:href=\"#DejaVuSans-83\"/>\r\n       <use x=\"397.322266\" xlink:href=\"#DejaVuSans-78\"/>\r\n      </g>\r\n     </g>\r\n    </g>\r\n    <g id=\"ytick_22\">\r\n     <g id=\"line2d_27\">\r\n      <g>\r\n       <use style=\"stroke:#000000;stroke-width:0.8;\" x=\"195.78125\" xlink:href=\"#m84b0d58dab\" y=\"59.302055\"/>\r\n      </g>\r\n     </g>\r\n     <g id=\"text_27\">\r\n      <!-- GENERO_CONTACTO -->\r\n      <g transform=\"translate(85.796875 63.012992)scale(0.1 -0.1)\">\r\n       <use xlink:href=\"#DejaVuSans-71\"/>\r\n       <use x=\"77.490234\" xlink:href=\"#DejaVuSans-69\"/>\r\n       <use x=\"140.673828\" xlink:href=\"#DejaVuSans-78\"/>\r\n       <use x=\"215.478516\" xlink:href=\"#DejaVuSans-69\"/>\r\n       <use x=\"278.662109\" xlink:href=\"#DejaVuSans-82\"/>\r\n       <use x=\"348.144531\" xlink:href=\"#DejaVuSans-79\"/>\r\n       <use x=\"426.855469\" xlink:href=\"#DejaVuSans-95\"/>\r\n       <use x=\"476.855469\" xlink:href=\"#DejaVuSans-67\"/>\r\n       <use x=\"546.679688\" xlink:href=\"#DejaVuSans-79\"/>\r\n       <use x=\"625.390625\" xlink:href=\"#DejaVuSans-78\"/>\r\n       <use x=\"700.195312\" xlink:href=\"#DejaVuSans-84\"/>\r\n       <use x=\"753.529297\" xlink:href=\"#DejaVuSans-65\"/>\r\n       <use x=\"820.1875\" xlink:href=\"#DejaVuSans-67\"/>\r\n       <use x=\"890.011719\" xlink:href=\"#DejaVuSans-84\"/>\r\n       <use x=\"951.095703\" xlink:href=\"#DejaVuSans-79\"/>\r\n      </g>\r\n     </g>\r\n    </g>\r\n    <g id=\"ytick_23\">\r\n     <g id=\"line2d_28\">\r\n      <g>\r\n       <use style=\"stroke:#000000;stroke-width:0.8;\" x=\"195.78125\" xlink:href=\"#m84b0d58dab\" y=\"51.33138\"/>\r\n      </g>\r\n     </g>\r\n     <g id=\"text_28\">\r\n      <!-- EDAD_COMPRA -->\r\n      <g transform=\"translate(112.495312 55.042318)scale(0.1 -0.1)\">\r\n       <use xlink:href=\"#DejaVuSans-69\"/>\r\n       <use x=\"63.183594\" xlink:href=\"#DejaVuSans-68\"/>\r\n       <use x=\"138.435547\" xlink:href=\"#DejaVuSans-65\"/>\r\n       <use x=\"206.84375\" xlink:href=\"#DejaVuSans-68\"/>\r\n       <use x=\"283.845703\" xlink:href=\"#DejaVuSans-95\"/>\r\n       <use x=\"333.845703\" xlink:href=\"#DejaVuSans-67\"/>\r\n       <use x=\"403.669922\" xlink:href=\"#DejaVuSans-79\"/>\r\n       <use x=\"482.380859\" xlink:href=\"#DejaVuSans-77\"/>\r\n       <use x=\"568.660156\" xlink:href=\"#DejaVuSans-80\"/>\r\n       <use x=\"628.962891\" xlink:href=\"#DejaVuSans-82\"/>\r\n       <use x=\"694.445312\" xlink:href=\"#DejaVuSans-65\"/>\r\n      </g>\r\n     </g>\r\n    </g>\r\n    <g id=\"ytick_24\">\r\n     <g id=\"line2d_29\">\r\n      <g>\r\n       <use style=\"stroke:#000000;stroke-width:0.8;\" x=\"195.78125\" xlink:href=\"#m84b0d58dab\" y=\"43.360706\"/>\r\n      </g>\r\n     </g>\r\n     <g id=\"text_29\">\r\n      <!-- CIUDAD_CONTACTO -->\r\n      <g transform=\"translate(89.167187 47.071643)scale(0.1 -0.1)\">\r\n       <use xlink:href=\"#DejaVuSans-67\"/>\r\n       <use x=\"69.824219\" xlink:href=\"#DejaVuSans-73\"/>\r\n       <use x=\"99.316406\" xlink:href=\"#DejaVuSans-85\"/>\r\n       <use x=\"172.509766\" xlink:href=\"#DejaVuSans-68\"/>\r\n       <use x=\"247.761719\" xlink:href=\"#DejaVuSans-65\"/>\r\n       <use x=\"316.169922\" xlink:href=\"#DejaVuSans-68\"/>\r\n       <use x=\"393.171875\" xlink:href=\"#DejaVuSans-95\"/>\r\n       <use x=\"443.171875\" xlink:href=\"#DejaVuSans-67\"/>\r\n       <use x=\"512.996094\" xlink:href=\"#DejaVuSans-79\"/>\r\n       <use x=\"591.707031\" xlink:href=\"#DejaVuSans-78\"/>\r\n       <use x=\"666.511719\" xlink:href=\"#DejaVuSans-84\"/>\r\n       <use x=\"719.845703\" xlink:href=\"#DejaVuSans-65\"/>\r\n       <use x=\"786.503906\" xlink:href=\"#DejaVuSans-67\"/>\r\n       <use x=\"856.328125\" xlink:href=\"#DejaVuSans-84\"/>\r\n       <use x=\"917.412109\" xlink:href=\"#DejaVuSans-79\"/>\r\n      </g>\r\n     </g>\r\n    </g>\r\n    <g id=\"ytick_25\">\r\n     <g id=\"line2d_30\">\r\n      <g>\r\n       <use style=\"stroke:#000000;stroke-width:0.8;\" x=\"195.78125\" xlink:href=\"#m84b0d58dab\" y=\"35.390031\"/>\r\n      </g>\r\n     </g>\r\n     <g id=\"text_30\">\r\n      <!-- IDIOMA_CONTACTO -->\r\n      <g transform=\"translate(91.54375 39.100969)scale(0.1 -0.1)\">\r\n       <use xlink:href=\"#DejaVuSans-73\"/>\r\n       <use x=\"29.492188\" xlink:href=\"#DejaVuSans-68\"/>\r\n       <use x=\"106.494141\" xlink:href=\"#DejaVuSans-73\"/>\r\n       <use x=\"135.986328\" xlink:href=\"#DejaVuSans-79\"/>\r\n       <use x=\"214.697266\" xlink:href=\"#DejaVuSans-77\"/>\r\n       <use x=\"300.976562\" xlink:href=\"#DejaVuSans-65\"/>\r\n       <use x=\"369.384766\" xlink:href=\"#DejaVuSans-95\"/>\r\n       <use x=\"419.384766\" xlink:href=\"#DejaVuSans-67\"/>\r\n       <use x=\"489.208984\" xlink:href=\"#DejaVuSans-79\"/>\r\n       <use x=\"567.919922\" xlink:href=\"#DejaVuSans-78\"/>\r\n       <use x=\"642.724609\" xlink:href=\"#DejaVuSans-84\"/>\r\n       <use x=\"696.058594\" xlink:href=\"#DejaVuSans-65\"/>\r\n       <use x=\"762.716797\" xlink:href=\"#DejaVuSans-67\"/>\r\n       <use x=\"832.541016\" xlink:href=\"#DejaVuSans-84\"/>\r\n       <use x=\"893.625\" xlink:href=\"#DejaVuSans-79\"/>\r\n      </g>\r\n     </g>\r\n    </g>\r\n    <g id=\"text_31\">\r\n     <!-- Feature -->\r\n     <g transform=\"translate(14.798437 149.927969)rotate(-90)scale(0.1 -0.1)\">\r\n      <defs>\r\n       <path d=\"M 56.203125 29.59375 \r\nL 56.203125 25.203125 \r\nL 14.890625 25.203125 \r\nQ 15.484375 15.921875 20.484375 11.0625 \r\nQ 25.484375 6.203125 34.421875 6.203125 \r\nQ 39.59375 6.203125 44.453125 7.46875 \r\nQ 49.3125 8.734375 54.109375 11.28125 \r\nL 54.109375 2.78125 \r\nQ 49.265625 0.734375 44.1875 -0.34375 \r\nQ 39.109375 -1.421875 33.890625 -1.421875 \r\nQ 20.796875 -1.421875 13.15625 6.1875 \r\nQ 5.515625 13.8125 5.515625 26.8125 \r\nQ 5.515625 40.234375 12.765625 48.109375 \r\nQ 20.015625 56 32.328125 56 \r\nQ 43.359375 56 49.78125 48.890625 \r\nQ 56.203125 41.796875 56.203125 29.59375 \r\nz\r\nM 47.21875 32.234375 \r\nQ 47.125 39.59375 43.09375 43.984375 \r\nQ 39.0625 48.390625 32.421875 48.390625 \r\nQ 24.90625 48.390625 20.390625 44.140625 \r\nQ 15.875 39.890625 15.1875 32.171875 \r\nz\r\n\" id=\"DejaVuSans-101\"/>\r\n       <path d=\"M 34.28125 27.484375 \r\nQ 23.390625 27.484375 19.1875 25 \r\nQ 14.984375 22.515625 14.984375 16.5 \r\nQ 14.984375 11.71875 18.140625 8.90625 \r\nQ 21.296875 6.109375 26.703125 6.109375 \r\nQ 34.1875 6.109375 38.703125 11.40625 \r\nQ 43.21875 16.703125 43.21875 25.484375 \r\nL 43.21875 27.484375 \r\nz\r\nM 52.203125 31.203125 \r\nL 52.203125 0 \r\nL 43.21875 0 \r\nL 43.21875 8.296875 \r\nQ 40.140625 3.328125 35.546875 0.953125 \r\nQ 30.953125 -1.421875 24.3125 -1.421875 \r\nQ 15.921875 -1.421875 10.953125 3.296875 \r\nQ 6 8.015625 6 15.921875 \r\nQ 6 25.140625 12.171875 29.828125 \r\nQ 18.359375 34.515625 30.609375 34.515625 \r\nL 43.21875 34.515625 \r\nL 43.21875 35.40625 \r\nQ 43.21875 41.609375 39.140625 45 \r\nQ 35.0625 48.390625 27.6875 48.390625 \r\nQ 23 48.390625 18.546875 47.265625 \r\nQ 14.109375 46.140625 10.015625 43.890625 \r\nL 10.015625 52.203125 \r\nQ 14.9375 54.109375 19.578125 55.046875 \r\nQ 24.21875 56 28.609375 56 \r\nQ 40.484375 56 46.34375 49.84375 \r\nQ 52.203125 43.703125 52.203125 31.203125 \r\nz\r\n\" id=\"DejaVuSans-97\"/>\r\n       <path d=\"M 18.3125 70.21875 \r\nL 18.3125 54.6875 \r\nL 36.8125 54.6875 \r\nL 36.8125 47.703125 \r\nL 18.3125 47.703125 \r\nL 18.3125 18.015625 \r\nQ 18.3125 11.328125 20.140625 9.421875 \r\nQ 21.96875 7.515625 27.59375 7.515625 \r\nL 36.8125 7.515625 \r\nL 36.8125 0 \r\nL 27.59375 0 \r\nQ 17.1875 0 13.234375 3.875 \r\nQ 9.28125 7.765625 9.28125 18.015625 \r\nL 9.28125 47.703125 \r\nL 2.6875 47.703125 \r\nL 2.6875 54.6875 \r\nL 9.28125 54.6875 \r\nL 9.28125 70.21875 \r\nz\r\n\" id=\"DejaVuSans-116\"/>\r\n       <path d=\"M 8.5 21.578125 \r\nL 8.5 54.6875 \r\nL 17.484375 54.6875 \r\nL 17.484375 21.921875 \r\nQ 17.484375 14.15625 20.5 10.265625 \r\nQ 23.53125 6.390625 29.59375 6.390625 \r\nQ 36.859375 6.390625 41.078125 11.03125 \r\nQ 45.3125 15.671875 45.3125 23.6875 \r\nL 45.3125 54.6875 \r\nL 54.296875 54.6875 \r\nL 54.296875 0 \r\nL 45.3125 0 \r\nL 45.3125 8.40625 \r\nQ 42.046875 3.421875 37.71875 1 \r\nQ 33.40625 -1.421875 27.6875 -1.421875 \r\nQ 18.265625 -1.421875 13.375 4.4375 \r\nQ 8.5 10.296875 8.5 21.578125 \r\nz\r\nM 31.109375 56 \r\nz\r\n\" id=\"DejaVuSans-117\"/>\r\n       <path d=\"M 41.109375 46.296875 \r\nQ 39.59375 47.171875 37.8125 47.578125 \r\nQ 36.03125 48 33.890625 48 \r\nQ 26.265625 48 22.1875 43.046875 \r\nQ 18.109375 38.09375 18.109375 28.8125 \r\nL 18.109375 0 \r\nL 9.078125 0 \r\nL 9.078125 54.6875 \r\nL 18.109375 54.6875 \r\nL 18.109375 46.1875 \r\nQ 20.953125 51.171875 25.484375 53.578125 \r\nQ 30.03125 56 36.53125 56 \r\nQ 37.453125 56 38.578125 55.875 \r\nQ 39.703125 55.765625 41.0625 55.515625 \r\nz\r\n\" id=\"DejaVuSans-114\"/>\r\n      </defs>\r\n      <use xlink:href=\"#DejaVuSans-70\"/>\r\n      <use x=\"52.019531\" xlink:href=\"#DejaVuSans-101\"/>\r\n      <use x=\"113.542969\" xlink:href=\"#DejaVuSans-97\"/>\r\n      <use x=\"174.822266\" xlink:href=\"#DejaVuSans-116\"/>\r\n      <use x=\"214.03125\" xlink:href=\"#DejaVuSans-117\"/>\r\n      <use x=\"277.410156\" xlink:href=\"#DejaVuSans-114\"/>\r\n      <use x=\"316.273438\" xlink:href=\"#DejaVuSans-101\"/>\r\n     </g>\r\n    </g>\r\n   </g>\r\n   <g id=\"patch_28\">\r\n    <path d=\"M 195.78125 239.758125 \r\nL 195.78125 22.318125 \r\n\" style=\"fill:none;stroke:#000000;stroke-linecap:square;stroke-linejoin:miter;stroke-width:0.8;\"/>\r\n   </g>\r\n   <g id=\"patch_29\">\r\n    <path d=\"M 530.58125 239.758125 \r\nL 530.58125 22.318125 \r\n\" style=\"fill:none;stroke:#000000;stroke-linecap:square;stroke-linejoin:miter;stroke-width:0.8;\"/>\r\n   </g>\r\n   <g id=\"patch_30\">\r\n    <path d=\"M 195.78125 239.758125 \r\nL 530.58125 239.758125 \r\n\" style=\"fill:none;stroke:#000000;stroke-linecap:square;stroke-linejoin:miter;stroke-width:0.8;\"/>\r\n   </g>\r\n   <g id=\"patch_31\">\r\n    <path d=\"M 195.78125 22.318125 \r\nL 530.58125 22.318125 \r\n\" style=\"fill:none;stroke:#000000;stroke-linecap:square;stroke-linejoin:miter;stroke-width:0.8;\"/>\r\n   </g>\r\n   <g id=\"text_32\">\r\n    <!-- Variable Importance -->\r\n    <g transform=\"translate(302.59625 16.318125)scale(0.12 -0.12)\">\r\n     <defs>\r\n      <path d=\"M 9.421875 54.6875 \r\nL 18.40625 54.6875 \r\nL 18.40625 0 \r\nL 9.421875 0 \r\nz\r\nM 9.421875 75.984375 \r\nL 18.40625 75.984375 \r\nL 18.40625 64.59375 \r\nL 9.421875 64.59375 \r\nz\r\n\" id=\"DejaVuSans-105\"/>\r\n      <path d=\"M 48.6875 27.296875 \r\nQ 48.6875 37.203125 44.609375 42.84375 \r\nQ 40.53125 48.484375 33.40625 48.484375 \r\nQ 26.265625 48.484375 22.1875 42.84375 \r\nQ 18.109375 37.203125 18.109375 27.296875 \r\nQ 18.109375 17.390625 22.1875 11.75 \r\nQ 26.265625 6.109375 33.40625 6.109375 \r\nQ 40.53125 6.109375 44.609375 11.75 \r\nQ 48.6875 17.390625 48.6875 27.296875 \r\nz\r\nM 18.109375 46.390625 \r\nQ 20.953125 51.265625 25.265625 53.625 \r\nQ 29.59375 56 35.59375 56 \r\nQ 45.5625 56 51.78125 48.09375 \r\nQ 58.015625 40.1875 58.015625 27.296875 \r\nQ 58.015625 14.40625 51.78125 6.484375 \r\nQ 45.5625 -1.421875 35.59375 -1.421875 \r\nQ 29.59375 -1.421875 25.265625 0.953125 \r\nQ 20.953125 3.328125 18.109375 8.203125 \r\nL 18.109375 0 \r\nL 9.078125 0 \r\nL 9.078125 75.984375 \r\nL 18.109375 75.984375 \r\nz\r\n\" id=\"DejaVuSans-98\"/>\r\n      <path d=\"M 9.421875 75.984375 \r\nL 18.40625 75.984375 \r\nL 18.40625 0 \r\nL 9.421875 0 \r\nz\r\n\" id=\"DejaVuSans-108\"/>\r\n      <path id=\"DejaVuSans-32\"/>\r\n      <path d=\"M 52 44.1875 \r\nQ 55.375 50.25 60.0625 53.125 \r\nQ 64.75 56 71.09375 56 \r\nQ 79.640625 56 84.28125 50.015625 \r\nQ 88.921875 44.046875 88.921875 33.015625 \r\nL 88.921875 0 \r\nL 79.890625 0 \r\nL 79.890625 32.71875 \r\nQ 79.890625 40.578125 77.09375 44.375 \r\nQ 74.3125 48.1875 68.609375 48.1875 \r\nQ 61.625 48.1875 57.5625 43.546875 \r\nQ 53.515625 38.921875 53.515625 30.90625 \r\nL 53.515625 0 \r\nL 44.484375 0 \r\nL 44.484375 32.71875 \r\nQ 44.484375 40.625 41.703125 44.40625 \r\nQ 38.921875 48.1875 33.109375 48.1875 \r\nQ 26.21875 48.1875 22.15625 43.53125 \r\nQ 18.109375 38.875 18.109375 30.90625 \r\nL 18.109375 0 \r\nL 9.078125 0 \r\nL 9.078125 54.6875 \r\nL 18.109375 54.6875 \r\nL 18.109375 46.1875 \r\nQ 21.1875 51.21875 25.484375 53.609375 \r\nQ 29.78125 56 35.6875 56 \r\nQ 41.65625 56 45.828125 52.96875 \r\nQ 50 49.953125 52 44.1875 \r\nz\r\n\" id=\"DejaVuSans-109\"/>\r\n      <path d=\"M 18.109375 8.203125 \r\nL 18.109375 -20.796875 \r\nL 9.078125 -20.796875 \r\nL 9.078125 54.6875 \r\nL 18.109375 54.6875 \r\nL 18.109375 46.390625 \r\nQ 20.953125 51.265625 25.265625 53.625 \r\nQ 29.59375 56 35.59375 56 \r\nQ 45.5625 56 51.78125 48.09375 \r\nQ 58.015625 40.1875 58.015625 27.296875 \r\nQ 58.015625 14.40625 51.78125 6.484375 \r\nQ 45.5625 -1.421875 35.59375 -1.421875 \r\nQ 29.59375 -1.421875 25.265625 0.953125 \r\nQ 20.953125 3.328125 18.109375 8.203125 \r\nz\r\nM 48.6875 27.296875 \r\nQ 48.6875 37.203125 44.609375 42.84375 \r\nQ 40.53125 48.484375 33.40625 48.484375 \r\nQ 26.265625 48.484375 22.1875 42.84375 \r\nQ 18.109375 37.203125 18.109375 27.296875 \r\nQ 18.109375 17.390625 22.1875 11.75 \r\nQ 26.265625 6.109375 33.40625 6.109375 \r\nQ 40.53125 6.109375 44.609375 11.75 \r\nQ 48.6875 17.390625 48.6875 27.296875 \r\nz\r\n\" id=\"DejaVuSans-112\"/>\r\n      <path d=\"M 30.609375 48.390625 \r\nQ 23.390625 48.390625 19.1875 42.75 \r\nQ 14.984375 37.109375 14.984375 27.296875 \r\nQ 14.984375 17.484375 19.15625 11.84375 \r\nQ 23.34375 6.203125 30.609375 6.203125 \r\nQ 37.796875 6.203125 41.984375 11.859375 \r\nQ 46.1875 17.53125 46.1875 27.296875 \r\nQ 46.1875 37.015625 41.984375 42.703125 \r\nQ 37.796875 48.390625 30.609375 48.390625 \r\nz\r\nM 30.609375 56 \r\nQ 42.328125 56 49.015625 48.375 \r\nQ 55.71875 40.765625 55.71875 27.296875 \r\nQ 55.71875 13.875 49.015625 6.21875 \r\nQ 42.328125 -1.421875 30.609375 -1.421875 \r\nQ 18.84375 -1.421875 12.171875 6.21875 \r\nQ 5.515625 13.875 5.515625 27.296875 \r\nQ 5.515625 40.765625 12.171875 48.375 \r\nQ 18.84375 56 30.609375 56 \r\nz\r\n\" id=\"DejaVuSans-111\"/>\r\n      <path d=\"M 54.890625 33.015625 \r\nL 54.890625 0 \r\nL 45.90625 0 \r\nL 45.90625 32.71875 \r\nQ 45.90625 40.484375 42.875 44.328125 \r\nQ 39.84375 48.1875 33.796875 48.1875 \r\nQ 26.515625 48.1875 22.3125 43.546875 \r\nQ 18.109375 38.921875 18.109375 30.90625 \r\nL 18.109375 0 \r\nL 9.078125 0 \r\nL 9.078125 54.6875 \r\nL 18.109375 54.6875 \r\nL 18.109375 46.1875 \r\nQ 21.34375 51.125 25.703125 53.5625 \r\nQ 30.078125 56 35.796875 56 \r\nQ 45.21875 56 50.046875 50.171875 \r\nQ 54.890625 44.34375 54.890625 33.015625 \r\nz\r\n\" id=\"DejaVuSans-110\"/>\r\n      <path d=\"M 48.78125 52.59375 \r\nL 48.78125 44.1875 \r\nQ 44.96875 46.296875 41.140625 47.34375 \r\nQ 37.3125 48.390625 33.40625 48.390625 \r\nQ 24.65625 48.390625 19.8125 42.84375 \r\nQ 14.984375 37.3125 14.984375 27.296875 \r\nQ 14.984375 17.28125 19.8125 11.734375 \r\nQ 24.65625 6.203125 33.40625 6.203125 \r\nQ 37.3125 6.203125 41.140625 7.25 \r\nQ 44.96875 8.296875 48.78125 10.40625 \r\nL 48.78125 2.09375 \r\nQ 45.015625 0.34375 40.984375 -0.53125 \r\nQ 36.96875 -1.421875 32.421875 -1.421875 \r\nQ 20.0625 -1.421875 12.78125 6.34375 \r\nQ 5.515625 14.109375 5.515625 27.296875 \r\nQ 5.515625 40.671875 12.859375 48.328125 \r\nQ 20.21875 56 33.015625 56 \r\nQ 37.15625 56 41.109375 55.140625 \r\nQ 45.0625 54.296875 48.78125 52.59375 \r\nz\r\n\" id=\"DejaVuSans-99\"/>\r\n     </defs>\r\n     <use xlink:href=\"#DejaVuSans-86\"/>\r\n     <use x=\"60.658203\" xlink:href=\"#DejaVuSans-97\"/>\r\n     <use x=\"121.9375\" xlink:href=\"#DejaVuSans-114\"/>\r\n     <use x=\"163.050781\" xlink:href=\"#DejaVuSans-105\"/>\r\n     <use x=\"190.833984\" xlink:href=\"#DejaVuSans-97\"/>\r\n     <use x=\"252.113281\" xlink:href=\"#DejaVuSans-98\"/>\r\n     <use x=\"315.589844\" xlink:href=\"#DejaVuSans-108\"/>\r\n     <use x=\"343.373047\" xlink:href=\"#DejaVuSans-101\"/>\r\n     <use x=\"404.896484\" xlink:href=\"#DejaVuSans-32\"/>\r\n     <use x=\"436.683594\" xlink:href=\"#DejaVuSans-73\"/>\r\n     <use x=\"466.175781\" xlink:href=\"#DejaVuSans-109\"/>\r\n     <use x=\"563.587891\" xlink:href=\"#DejaVuSans-112\"/>\r\n     <use x=\"627.064453\" xlink:href=\"#DejaVuSans-111\"/>\r\n     <use x=\"688.246094\" xlink:href=\"#DejaVuSans-114\"/>\r\n     <use x=\"729.359375\" xlink:href=\"#DejaVuSans-116\"/>\r\n     <use x=\"768.568359\" xlink:href=\"#DejaVuSans-97\"/>\r\n     <use x=\"829.847656\" xlink:href=\"#DejaVuSans-110\"/>\r\n     <use x=\"893.226562\" xlink:href=\"#DejaVuSans-99\"/>\r\n     <use x=\"948.207031\" xlink:href=\"#DejaVuSans-101\"/>\r\n    </g>\r\n   </g>\r\n  </g>\r\n </g>\r\n <defs>\r\n  <clipPath id=\"p2484276791\">\r\n   <rect height=\"217.44\" width=\"334.8\" x=\"195.78125\" y=\"22.318125\"/>\r\n  </clipPath>\r\n </defs>\r\n</svg>\r\n",
      "image/png": "[encoded data removed]"
     },
     "metadata": {
      "needs_background": "light"
     }
    }
   ],
   "source": [
    "visualize_importance('Variable Importance', x_test.columns, attribution.detach().numpy()[0][0], 'Feature')"
   ]
  },
  {
   "cell_type": "code",
   "execution_count": 51,
   "metadata": {},
   "outputs": [
    {
     "output_type": "execute_result",
     "data": {
      "text/plain": [
       "range(0, 25)"
      ]
     },
     "metadata": {},
     "execution_count": 51
    }
   ],
   "source": [
    "range(0, x_test.columns.size)"
   ]
  },
  {
   "cell_type": "code",
   "execution_count": null,
   "metadata": {},
   "outputs": [],
   "source": []
  },
  {
   "cell_type": "code",
   "execution_count": null,
   "metadata": {},
   "outputs": [],
   "source": []
  },
  {
   "cell_type": "markdown",
   "metadata": {},
   "source": [
    "## Gaussian process regression"
   ]
  },
  {
   "cell_type": "code",
   "execution_count": null,
   "metadata": {},
   "outputs": [],
   "source": [
    "#params = {'n_neighbors':[2,3,4,5,6,7,8,9]}\n",
    "\n",
    "#knn = neighbors.KNeighborsRegressor()\n",
    "\n",
    "#model = GridSearchCV(knn, params, cv=10)\n",
    "#model.fit(x_train,y_train)\n",
    "#model.best_params_"
   ]
  },
  {
   "cell_type": "code",
   "execution_count": 22,
   "metadata": {},
   "outputs": [],
   "source": [
    "data_gaussian_filtered = getValuesFilter(data_gaussian, 14, data_gaussian.columns) # iso = * -> no filter by numero deudor pais id\n",
    "data_gaussian_filtered = data_gaussian_filtered.sort_values(['ANO_FACTURA', 'MES_FACTURA', 'FECHA_FACTURA'])\n",
    "traindataset, testdataset = train_test_split(data_gaussian, test_size=0.01, shuffle= False)\n",
    "traindataset, testdataset = train_test_split(testdataset, test_size=0.01, shuffle= False)\n",
    "x_train = traindataset.loc[:, traindataset.columns != 'IMP_VENTA_NETO_EUR']\n",
    "y_train = traindataset.loc[:, traindataset.columns == 'IMP_VENTA_NETO_EUR']\n",
    "x_train = x_train.drop(columns=['EDAD_RANGO_COMPRA'])\n",
    "x_test = testdataset.loc[:, testdataset.columns != 'IMP_VENTA_NETO_EUR']\n",
    "y_test = testdataset.loc[:, testdataset.columns == 'IMP_VENTA_NETO_EUR']\n",
    "x_test = x_test.drop(columns = 'EDAD_RANGO_COMPRA')\n",
    "scaler = StandardScaler()\n",
    "x_train = pd.DataFrame(scaler.fit_transform(x_train), columns = x_train.columns)\n",
    "x_test = pd.DataFrame(scaler.fit_transform(x_test), columns = x_test.columns)\n",
    "traindataset.shape"
   ]
  },
  {
   "cell_type": "code",
   "execution_count": 23,
   "metadata": {},
   "outputs": [],
   "source": [
    "# massive dataset, try with something smaller\n",
    "kernel = kernel = RBF(10, (1e-2, 1e2)) # Check which ones choose\n",
    "gpr = GaussianProcessRegressor(kernel=kernel, n_restarts_optimizer=9)\n",
    "gpr.fit(x_train, y_train)\n",
    "gpr.score(x_train, y_train)\n",
    "y_pred, sigma = gpr.predict(x_test, return_std=True)\n",
    "results['gaussianP'] = y_pred"
   ]
  },
  {
   "cell_type": "code",
   "execution_count": null,
   "metadata": {},
   "outputs": [],
   "source": [
    "print('Mean Absolute Error:', metrics.mean_absolute_error(y_test, y_pred))\n",
    "print('Mean Squared Error:', metrics.mean_squared_error(y_test, y_pred))\n",
    "print('Root Mean Squared Error:', np.sqrt(metrics.mean_squared_error(y_test, y_pred)))\n",
    "print('R2:', metrics.r2_score(y_test, y_pred))"
   ]
  }
 ],
 "metadata": {
  "kernelspec": {
   "name": "python3",
   "display_name": "Python 3.9.1 64-bit",
   "metadata": {
    "interpreter": {
     "hash": "4ce0e62306dd6a5716965d4519ada776f947e6dfc145b604b11307c10277ef29"
    }
   }
  },
  "language_info": {
   "codemirror_mode": {
    "name": "ipython",
    "version": 3
   },
   "file_extension": ".py",
   "mimetype": "text/x-python",
   "name": "python",
   "nbconvert_exporter": "python",
   "pygments_lexer": "ipython3",
   "version": "3.9.1-final"
  }
 },
 "nbformat": 4,
 "nbformat_minor": 2
}
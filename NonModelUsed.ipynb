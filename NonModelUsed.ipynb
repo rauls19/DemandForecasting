{
 "cells": [
  {
   "cell_type": "markdown",
   "metadata": {},
   "source": [
    "## Lasso Regression"
   ]
  },
  {
   "cell_type": "code",
   "execution_count": null,
   "metadata": {},
   "outputs": [],
   "source": [
    "hyper_params = {'alpha':[1, 0.5, 0.1, 0.01, 0.001]}\n",
    "num_rounds = 1500\n",
    "lasso = Lasso()\n",
    "model_cv_lasso = GridSearchCV(estimator = lasso, param_grid = hyper_params, scoring= 'r2', cv = folds, verbose = 1, return_train_score=True)      \n",
    "model_cv_lasso.fit(x_train, y_train)\n",
    "cv_results = pd.DataFrame(model_cv_lasso.cv_results_)"
   ]
  },
  {
   "cell_type": "code",
   "execution_count": null,
   "metadata": {},
   "outputs": [],
   "source": [
    "model_cv_lasso.best_params_"
   ]
  },
  {
   "cell_type": "code",
   "execution_count": null,
   "metadata": {},
   "outputs": [],
   "source": [
    "lasso = Lasso(alpha= 0.01)\n",
    "start_time = time.time()\n",
    "model = lasso.fit(x_train, y_train)\n",
    "timeexecution['lasso'] = (time.time() - start_time)\n",
    "y_pred = lasso.predict(x_test)"
   ]
  },
  {
   "cell_type": "code",
   "execution_count": null,
   "metadata": {},
   "outputs": [],
   "source": [
    "#results = y_test.copy()\n",
    "results['lasso'] = y_pred"
   ]
  },
  {
   "cell_type": "code",
   "execution_count": null,
   "metadata": {},
   "outputs": [],
   "source": [
    "print('Mean Absolute Error:', metrics.mean_absolute_error(y_test, y_pred))\n",
    "print('Mean Squared Error:', metrics.mean_squared_error(y_test, y_pred))\n",
    "print('Root Mean Squared Error:', np.sqrt(metrics.mean_squared_error(y_test, y_pred)))\n",
    "mseresults['lasso'] = metrics.mean_squared_error(y_test, y_pred)"
   ]
  },
  {
   "cell_type": "code",
   "execution_count": null,
   "metadata": {},
   "outputs": [],
   "source": [
    "explainer = dx.Explainer(lasso, x_train, y_train)\n",
    "explanation = explainer.model_parts()\n",
    "explanation.plot()\n",
    "print(explainer.model_performance().result)\n",
    "res = explainer.model_performance(model_type='regression')"
   ]
  },
  {
   "cell_type": "code",
   "execution_count": null,
   "metadata": {},
   "outputs": [],
   "source": [
    "vars_grouped = explainer.model_parts(variable_groups= variable_groups)\n",
    "print(vars_grouped.result)\n",
    "vars_grouped.plot()"
   ]
  },
  {
   "cell_type": "code",
   "execution_count": null,
   "metadata": {},
   "outputs": [],
   "source": [
    "sh = explainer.predict_parts(x_test.iloc[[20]], type = 'shap')\n",
    "sh.plot()\n",
    "display(testdataset.iloc[[20]])"
   ]
  },
  {
   "cell_type": "code",
   "execution_count": null,
   "metadata": {},
   "outputs": [],
   "source": [
    "sh = explainer.predict_parts(x_test.iloc[[100]], type = 'shap')\n",
    "sh.plot()\n",
    "display(testdataset.iloc[[100]])"
   ]
  },
  {
   "cell_type": "markdown",
   "metadata": {},
   "source": [
    "## Decision Tree"
   ]
  },
  {
   "cell_type": "code",
   "execution_count": null,
   "metadata": {},
   "outputs": [],
   "source": [
    "rfr = RandomForestRegressor(max_depth=2, random_state=0, n_estimators=20)\n",
    "start_time = time.time()\n",
    "model = rfr.fit(X, y)\n",
    "timeexecution['RandomForest'] = (time.time() - start_time)\n",
    "y_pred = rfr.predict(x_test)\n",
    "results['RandomForest'] = y_pred"
   ]
  }
 ],
 "metadata": {
  "kernelspec": {
   "name": "python3",
   "display_name": "Python 3.9.1 64-bit",
   "metadata": {
    "interpreter": {
     "hash": "4ce0e62306dd6a5716965d4519ada776f947e6dfc145b604b11307c10277ef29"
    }
   }
  },
  "language_info": {
   "codemirror_mode": {
    "name": "ipython",
    "version": 3
   },
   "file_extension": ".py",
   "mimetype": "text/x-python",
   "name": "python",
   "nbconvert_exporter": "python",
   "pygments_lexer": "ipython3",
   "version": "3.9.1-final"
  }
 },
 "nbformat": 4,
 "nbformat_minor": 2
}